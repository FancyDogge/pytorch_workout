{
  "nbformat": 4,
  "nbformat_minor": 0,
  "metadata": {
    "colab": {
      "provenance": []
    },
    "kernelspec": {
      "name": "python3",
      "display_name": "Python 3"
    },
    "language_info": {
      "name": "python"
    }
  },
  "cells": [
    {
      "cell_type": "markdown",
      "source": [
        "# Pytorch Workflow"
      ],
      "metadata": {
        "id": "6qZG0DV9JkhZ"
      }
    },
    {
      "cell_type": "code",
      "source": [
        "import torch\n",
        "from torch import nn #nn contains all Pytorch's building blocks for neural networks\n",
        "import matplotlib.pyplot as plt\n",
        "\n",
        "\n",
        "torch.__version__"
      ],
      "metadata": {
        "colab": {
          "base_uri": "https://localhost:8080/",
          "height": 36
        },
        "id": "1JLbpuZeKBBf",
        "outputId": "206cde28-e35e-4d6d-ba02-576fa7473300"
      },
      "execution_count": 45,
      "outputs": [
        {
          "output_type": "execute_result",
          "data": {
            "text/plain": [
              "'2.0.0+cu118'"
            ],
            "application/vnd.google.colaboratory.intrinsic+json": {
              "type": "string"
            }
          },
          "metadata": {},
          "execution_count": 45
        }
      ]
    },
    {
      "cell_type": "markdown",
      "source": [
        "## Prepare and Load data\n",
        "excel, imgs, video, audio, text, whatever\n",
        "\n",
        "We can separate machine learning into two big categories:\n",
        "1. Get data into a numerical represintation.\n",
        "2. Build a model to learn patterns in that numerical repr.\n",
        "\n",
        "Lets start with a linear regression: we'll use linear regression to create the data with known parameters (things that can be learned by a model) and then we'll use PyTorch to see if we can build model to estimate these parameters using gradient descent."
      ],
      "metadata": {
        "id": "ql0EJUbxJ-Ya"
      }
    },
    {
      "cell_type": "code",
      "source": [
        "# Create *known parameters\n",
        "weight = 0.7\n",
        "bias = 0.3\n",
        "\n",
        "# Create\n",
        "start = 0\n",
        "end = 1\n",
        "step = 0.02\n",
        "# input\n",
        "X = torch.arange(start, end, step).unsqueeze(dim=1)\n",
        "# output\n",
        "y = weight * X + bias\n",
        "\n",
        "X[:10], y[:10]"
      ],
      "metadata": {
        "colab": {
          "base_uri": "https://localhost:8080/"
        },
        "id": "8q-u2KPXKsMB",
        "outputId": "6632649a-1cb8-4226-b485-e423e9b88e1e"
      },
      "execution_count": 46,
      "outputs": [
        {
          "output_type": "execute_result",
          "data": {
            "text/plain": [
              "(tensor([[0.0000],\n",
              "         [0.0200],\n",
              "         [0.0400],\n",
              "         [0.0600],\n",
              "         [0.0800],\n",
              "         [0.1000],\n",
              "         [0.1200],\n",
              "         [0.1400],\n",
              "         [0.1600],\n",
              "         [0.1800]]),\n",
              " tensor([[0.3000],\n",
              "         [0.3140],\n",
              "         [0.3280],\n",
              "         [0.3420],\n",
              "         [0.3560],\n",
              "         [0.3700],\n",
              "         [0.3840],\n",
              "         [0.3980],\n",
              "         [0.4120],\n",
              "         [0.4260]]))"
            ]
          },
          "metadata": {},
          "execution_count": 46
        }
      ]
    },
    {
      "cell_type": "code",
      "source": [
        "len(X), len(y)"
      ],
      "metadata": {
        "colab": {
          "base_uri": "https://localhost:8080/"
        },
        "id": "GLpKfR9QTbii",
        "outputId": "65fb4904-00f4-4bf4-e525-bb13e9fd4274"
      },
      "execution_count": 47,
      "outputs": [
        {
          "output_type": "execute_result",
          "data": {
            "text/plain": [
              "(50, 50)"
            ]
          },
          "metadata": {},
          "execution_count": 47
        }
      ]
    },
    {
      "cell_type": "markdown",
      "source": [
        "### Splitting data into training and test sets(one of the most important concepts in ML)"
      ],
      "metadata": {
        "id": "1DIyDH2aUWpo"
      }
    },
    {
      "cell_type": "code",
      "source": [
        "# Create test and training sets\n",
        "\n",
        "# first lets create percentage of data split\n",
        "\n",
        "train_split = int(0.8 * len(X))\n",
        "X_train, y_train = X[:train_split], y[:train_split]\n",
        "X_test, y_test = X[train_split:], y[train_split:]\n",
        "\n",
        "len(X_train), len(y_train), len(X_test), len(y_test)"
      ],
      "metadata": {
        "colab": {
          "base_uri": "https://localhost:8080/"
        },
        "id": "2JZvZONqUaYh",
        "outputId": "23e1b8d4-7b5b-4c92-e9da-b8540008291a"
      },
      "execution_count": 48,
      "outputs": [
        {
          "output_type": "execute_result",
          "data": {
            "text/plain": [
              "(40, 40, 10, 10)"
            ]
          },
          "metadata": {},
          "execution_count": 48
        }
      ]
    },
    {
      "cell_type": "code",
      "source": [
        "# plot (vizualise) our training data\n",
        "\n",
        "def plot_predictions(train_data=X_train,\n",
        "                     train_labels=y_train,\n",
        "                     test_data=X_test,\n",
        "                     test_labels=y_test,\n",
        "                     predictions=None\n",
        "                    ):\n",
        "  \"\"\"\n",
        "  Plots training and test data, compares predictions\n",
        "  \"\"\"\n",
        "  plt.figure(figsize=(7, 7))\n",
        "\n",
        "  # plot training data in blue color\n",
        "  plt.scatter(train_data, train_labels, c='b', s=10, label='Training Data')\n",
        "\n",
        "  # plot test data in green\n",
        "  plt.scatter(test_data, test_labels, c='g', s=10, label='Testing Data')\n",
        "\n",
        "  # are there any predictions?\n",
        "  if predictions is not None:\n",
        "    # plot them against our test data if exist\n",
        "    plt.scatter(test_data, predictions, c='r', s=10, label='Predictions')\n",
        "\n",
        "  # show the legens\n",
        "  plt.legend(prop={'size': 14})"
      ],
      "metadata": {
        "id": "9qqWpHzqX1zS"
      },
      "execution_count": 49,
      "outputs": []
    },
    {
      "cell_type": "code",
      "source": [
        "plot_predictions()"
      ],
      "metadata": {
        "colab": {
          "base_uri": "https://localhost:8080/",
          "height": 599
        },
        "id": "W-pLh_WfkmFM",
        "outputId": "fb67f653-785c-4b4e-f1fd-a5b8457495ec"
      },
      "execution_count": 50,
      "outputs": [
        {
          "output_type": "display_data",
          "data": {
            "text/plain": [
              "<Figure size 700x700 with 1 Axes>"
            ],
            "image/png": "[encoded data removed]"
          },
          "metadata": {}
        }
      ]
    },
    {
      "cell_type": "markdown",
      "source": [
        "## Building first PyTorch model"
      ],
      "metadata": {
        "id": "FNW8yyDLLcID"
      }
    },
    {
      "cell_type": "code",
      "source": [
        "# Create liner regression model class\n",
        "\n",
        "class LinearRegressionModel(nn.Module):\n",
        "  def __init__(self):\n",
        "    super().__init__()\n",
        "    self.weight = nn.Parameter(torch.rand(1,  # -> nn.Parameter <- tensor, which is to be considered as module parameter, will appear in ~Module.parameters iterator\n",
        "                                          requires_grad=True, # <- default1\n",
        "                                          dtype=torch.float\n",
        "                                          ))\n",
        "    self.bias = nn.Parameter(torch.rand(1,\n",
        "                                          requires_grad=True,\n",
        "                                          dtype=torch.float\n",
        "                                          ))\n",
        "  # Forward mwthod to de4fine a computation in the model\n",
        "  def forward(self, x: torch.Tensor) -> torch.Tensor: # x - input(training) data\n",
        "    return self.weight * x + self.bias  #this is the linear regression formula"
      ],
      "metadata": {
        "id": "By4s4lCmnzYk"
      },
      "execution_count": 51,
      "outputs": []
    },
    {
      "cell_type": "markdown",
      "source": [
        "Whatthis model does:\n",
        "* Start with random values (weight and bias)\n",
        "* Look at training data and adjust the random numbers to get closer(or better represent) to ideal values ( the weight and bias values we used to create a data) \n",
        "\n",
        "How does it do so?\n",
        "Trough two main algorithms:\n",
        "1. Gradient descent: https://www.youtube.com/watch?v=IHZwWFHWa-w&t=10s\n",
        "2. Backpropagation\n",
        "\n",
        "Оба этих алгоритма уже написаны в pytorch и будут выполнены за меня, но все равно нужно знать как они работают!"
      ],
      "metadata": {
        "id": "Y3nlOKqAHRX6"
      }
    },
    {
      "cell_type": "markdown",
      "source": [
        "### Checking the contents of our PyTorch model\n",
        "\n",
        "check parameters with `.parameters()`"
      ],
      "metadata": {
        "id": "LvBogrC9fne9"
      }
    },
    {
      "cell_type": "code",
      "source": [
        "# Create a random seed (для наглядности)\n",
        "torch.manual_seed(88)\n",
        "\n",
        "# Create an instance of our model\n",
        "model_0 = LinearRegressionModel()\n",
        "\n",
        "model_0.parameters() #returns a generator\n",
        "\n",
        "for i in model_0.parameters():\n",
        "  print(i)"
      ],
      "metadata": {
        "colab": {
          "base_uri": "https://localhost:8080/"
        },
        "id": "v7pNYEipf7cV",
        "outputId": "45f4d245-12d0-47b3-c12b-30fc347ba107"
      },
      "execution_count": 52,
      "outputs": [
        {
          "output_type": "stream",
          "name": "stdout",
          "text": [
            "Parameter containing:\n",
            "tensor([0.7731], requires_grad=True)\n",
            "Parameter containing:\n",
            "tensor([0.6937], requires_grad=True)\n"
          ]
        }
      ]
    },
    {
      "cell_type": "code",
      "source": [
        "# List named params\n",
        "model_0.state_dict()"
      ],
      "metadata": {
        "colab": {
          "base_uri": "https://localhost:8080/"
        },
        "id": "2QUHnA1Dgf_e",
        "outputId": "01fbeca5-0253-4241-9c6f-5c18b0aa81c8"
      },
      "execution_count": 53,
      "outputs": [
        {
          "output_type": "execute_result",
          "data": {
            "text/plain": [
              "OrderedDict([('weight', tensor([0.7731])), ('bias', tensor([0.6937]))])"
            ]
          },
          "metadata": {},
          "execution_count": 53
        }
      ]
    },
    {
      "cell_type": "markdown",
      "source": [
        "### Making predictions using torch.inference_mode()\n",
        "\n",
        "чтобы посмотреть как хорошо наша модель предугадывает что-либо, посмотрим как хорошо она предугадает y_test основываясь на X_test\n",
        "\n",
        "Когда мы скармливаем данные моделе, она прогоняет их через forward() метод\n"
      ],
      "metadata": {
        "id": "bUs4ngRg91ot"
      }
    },
    {
      "cell_type": "code",
      "source": [
        "X_test, y_test"
      ],
      "metadata": {
        "colab": {
          "base_uri": "https://localhost:8080/"
        },
        "id": "vikCTYsu_DWH",
        "outputId": "cdb51c41-4bfe-4d39-92a1-3f44760dd6a0"
      },
      "execution_count": 54,
      "outputs": [
        {
          "output_type": "execute_result",
          "data": {
            "text/plain": [
              "(tensor([[0.8000],\n",
              "         [0.8200],\n",
              "         [0.8400],\n",
              "         [0.8600],\n",
              "         [0.8800],\n",
              "         [0.9000],\n",
              "         [0.9200],\n",
              "         [0.9400],\n",
              "         [0.9600],\n",
              "         [0.9800]]),\n",
              " tensor([[0.8600],\n",
              "         [0.8740],\n",
              "         [0.8880],\n",
              "         [0.9020],\n",
              "         [0.9160],\n",
              "         [0.9300],\n",
              "         [0.9440],\n",
              "         [0.9580],\n",
              "         [0.9720],\n",
              "         [0.9860]]))"
            ]
          },
          "metadata": {},
          "execution_count": 54
        }
      ]
    },
    {
      "cell_type": "code",
      "source": [
        "# Make predictions with model, inference_mode() не возвращает градиент в отличие от метода ниже, к тому же делает код быстрее\n",
        "with torch.inference_mode(): \n",
        "  y_preds = model_0(X_test)\n",
        "\n",
        "y_preds\n",
        "\n",
        "# другой способ:\n",
        "# y_preds = model_0(X_test)"
      ],
      "metadata": {
        "colab": {
          "base_uri": "https://localhost:8080/"
        },
        "id": "HWiGwNGn-RqC",
        "outputId": "abe3b8f8-6c7b-4270-eeb5-4a0df72651ac"
      },
      "execution_count": 57,
      "outputs": [
        {
          "output_type": "execute_result",
          "data": {
            "text/plain": [
              "tensor([[1.3122],\n",
              "        [1.3277],\n",
              "        [1.3431],\n",
              "        [1.3586],\n",
              "        [1.3740],\n",
              "        [1.3895],\n",
              "        [1.4050],\n",
              "        [1.4204],\n",
              "        [1.4359],\n",
              "        [1.4514]])"
            ]
          },
          "metadata": {},
          "execution_count": 57
        }
      ]
    },
    {
      "cell_type": "code",
      "source": [
        "plot_predictions(predictions=y_preds)"
      ],
      "metadata": {
        "colab": {
          "base_uri": "https://localhost:8080/",
          "height": 599
        },
        "id": "_1L68scS_RpM",
        "outputId": "5861b2f2-c8d6-4b5c-f480-22e5211775ea"
      },
      "execution_count": 58,
      "outputs": [
        {
          "output_type": "display_data",
          "data": {
            "text/plain": [
              "<Figure size 700x700 with 1 Axes>"
            ],
            "image/png": "[encoded data removed]"
          },
          "metadata": {}
        }
      ]
    },
    {
      "cell_type": "markdown",
      "source": [
        "## Train model\n",
        "\n",
        "пока что результат ужасный, т.к. наша модель пока что инкак не подгоняет weight and bias под оптимальные значения.\n",
        "\n",
        "Нам нужен способ измерить насколько плохо модель предугадывает значения - для этого существует `loss function`. Чем меньше значение - тем лучше.\n",
        "\n",
        "loss function также может называться `cost function` или `criterion`\n",
        "\n",
        "Thing we need to train:\n",
        "* **Loss function**\n",
        "* **Optimizer**: takes into account a loss of a model and adjusts the model's parameters (w and b) to improve a loss function\n",
        "\n",
        "And specificaly for PyToech we need:\n",
        "* A training loop\n",
        "* A testing loop"
      ],
      "metadata": {
        "id": "ZBxJgMgTKKef"
      }
    },
    {
      "cell_type": "code",
      "source": [],
      "metadata": {
        "id": "RgEvjUkFK-37"
      },
      "execution_count": null,
      "outputs": []
    }
  ]
}