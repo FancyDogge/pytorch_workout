{
  "nbformat": 4,
  "nbformat_minor": 0,
  "metadata": {
    "colab": {
      "provenance": []
    },
    "kernelspec": {
      "name": "python3",
      "display_name": "Python 3"
    },
    "language_info": {
      "name": "python"
    }
  },
  "cells": [
    {
      "cell_type": "markdown",
      "source": [
        "# Pytorch Workflow"
      ],
      "metadata": {
        "id": "6qZG0DV9JkhZ"
      }
    },
    {
      "cell_type": "code",
      "source": [
        "import torch\n",
        "from torch import nn #nn contains all Pytorch's building blocks for neural networks\n",
        "import matplotlib.pyplot as plt\n",
        "\n",
        "\n",
        "torch.__version__"
      ],
      "metadata": {
        "colab": {
          "base_uri": "https://localhost:8080/",
          "height": 35
        },
        "id": "1JLbpuZeKBBf",
        "outputId": "8afacf5a-88d2-433f-9886-65bbe9905de7"
      },
      "execution_count": 1,
      "outputs": [
        {
          "output_type": "execute_result",
          "data": {
            "text/plain": [
              "'2.0.0+cu118'"
            ],
            "application/vnd.google.colaboratory.intrinsic+json": {
              "type": "string"
            }
          },
          "metadata": {},
          "execution_count": 1
        }
      ]
    },
    {
      "cell_type": "markdown",
      "source": [
        "## Prepare and Load data\n",
        "excel, imgs, video, audio, text, whatever\n",
        "\n",
        "We can separate machine learning into two big categories:\n",
        "1. Get data into a numerical represintation.\n",
        "2. Build a model to learn patterns in that numerical repr.\n",
        "\n",
        "Lets start with a linear regression: we'll use linear regression to create the data with known parameters (things that can be learned by a model) and then we'll use PyTorch to see if we can build model to estimate these parameters using gradient descent."
      ],
      "metadata": {
        "id": "ql0EJUbxJ-Ya"
      }
    },
    {
      "cell_type": "code",
      "source": [
        "# Create *known parameters\n",
        "weight = 0.7\n",
        "bias = 0.3\n",
        "\n",
        "# Create\n",
        "start = 0\n",
        "end = 1\n",
        "step = 0.02\n",
        "# input\n",
        "X = torch.arange(start, end, step).unsqueeze(dim=1)\n",
        "# output\n",
        "y = weight * X + bias\n",
        "\n",
        "X[:10], y[:10]"
      ],
      "metadata": {
        "colab": {
          "base_uri": "https://localhost:8080/"
        },
        "id": "8q-u2KPXKsMB",
        "outputId": "88bacadc-27fa-4cea-df40-c03c0a6dd27c"
      },
      "execution_count": 2,
      "outputs": [
        {
          "output_type": "execute_result",
          "data": {
            "text/plain": [
              "(tensor([[0.0000],\n",
              "         [0.0200],\n",
              "         [0.0400],\n",
              "         [0.0600],\n",
              "         [0.0800],\n",
              "         [0.1000],\n",
              "         [0.1200],\n",
              "         [0.1400],\n",
              "         [0.1600],\n",
              "         [0.1800]]),\n",
              " tensor([[0.3000],\n",
              "         [0.3140],\n",
              "         [0.3280],\n",
              "         [0.3420],\n",
              "         [0.3560],\n",
              "         [0.3700],\n",
              "         [0.3840],\n",
              "         [0.3980],\n",
              "         [0.4120],\n",
              "         [0.4260]]))"
            ]
          },
          "metadata": {},
          "execution_count": 2
        }
      ]
    },
    {
      "cell_type": "code",
      "source": [
        "len(X), len(y)"
      ],
      "metadata": {
        "colab": {
          "base_uri": "https://localhost:8080/"
        },
        "id": "GLpKfR9QTbii",
        "outputId": "328c236a-03f5-4df9-a807-250ffe50554c"
      },
      "execution_count": 3,
      "outputs": [
        {
          "output_type": "execute_result",
          "data": {
            "text/plain": [
              "(50, 50)"
            ]
          },
          "metadata": {},
          "execution_count": 3
        }
      ]
    },
    {
      "cell_type": "markdown",
      "source": [
        "### Splitting data into training and test sets(one of the most important concepts in ML)"
      ],
      "metadata": {
        "id": "1DIyDH2aUWpo"
      }
    },
    {
      "cell_type": "code",
      "source": [
        "# Create test and training sets\n",
        "\n",
        "# first lets create percentage of data split\n",
        "\n",
        "train_split = int(0.8 * len(X))\n",
        "X_train, y_train = X[:train_split], y[:train_split]\n",
        "X_test, y_test = X[train_split:], y[train_split:]\n",
        "\n",
        "len(X_train), len(y_train), len(X_test), len(y_test)"
      ],
      "metadata": {
        "colab": {
          "base_uri": "https://localhost:8080/"
        },
        "id": "2JZvZONqUaYh",
        "outputId": "de48c68d-a0c9-4faa-b59b-07a7f8fccb79"
      },
      "execution_count": 4,
      "outputs": [
        {
          "output_type": "execute_result",
          "data": {
            "text/plain": [
              "(40, 40, 10, 10)"
            ]
          },
          "metadata": {},
          "execution_count": 4
        }
      ]
    },
    {
      "cell_type": "code",
      "source": [
        "# plot (vizualise) our training data\n",
        "\n",
        "def plot_predictions(train_data=X_train,\n",
        "                     train_labels=y_train,\n",
        "                     test_data=X_test,\n",
        "                     test_labels=y_test,\n",
        "                     predictions=None\n",
        "                    ):\n",
        "  \"\"\"\n",
        "  Plots training and test data, compares predictions\n",
        "  \"\"\"\n",
        "  plt.figure(figsize=(7, 7))\n",
        "\n",
        "  # plot training data in blue color\n",
        "  plt.scatter(train_data, train_labels, c='b', s=4, label='Training Data')\n",
        "\n",
        "  # plot test data in green\n",
        "  plt.scatter(test_data, test_labels, c='g', s=4, label='Testing Data')\n",
        "  # are there any predictions?\n",
        "  \n",
        "  if predictions is not None:\n",
        "    # plot them against our test data if exist\n",
        "    plt.scatter(test_data, predictions, c='r', s=4, label='Predictions')\n",
        "\n",
        "  # show the legens\n",
        "  plt.legend(prop={'size': 14})"
      ],
      "metadata": {
        "id": "9qqWpHzqX1zS"
      },
      "execution_count": 5,
      "outputs": []
    },
    {
      "cell_type": "code",
      "source": [
        "plot_predictions()"
      ],
      "metadata": {
        "colab": {
          "base_uri": "https://localhost:8080/",
          "height": 599
        },
        "id": "W-pLh_WfkmFM",
        "outputId": "8099d179-c87c-4a97-bd18-4e7d025243a1"
      },
      "execution_count": 6,
      "outputs": [
        {
          "output_type": "display_data",
          "data": {
            "text/plain": [
              "<Figure size 700x700 with 1 Axes>"
            ],
            "image/png": "[encoded data removed]"
          },
          "metadata": {}
        }
      ]
    },
    {
      "cell_type": "markdown",
      "source": [
        "## Building first PyTorch model"
      ],
      "metadata": {
        "id": "FNW8yyDLLcID"
      }
    },
    {
      "cell_type": "code",
      "source": [
        "# Create liner regression model class\n",
        "\n",
        "class LinearRegressionModel(nn.Module):\n",
        "  def __init__(self):\n",
        "    super().__init__()\n",
        "    self.weight = nn.Parameter(torch.rand(1,  # -> nn.Parameter <- tensor, which is to be considered as module parameter, will appear in ~Module.parameters iterator\n",
        "                                          requires_grad=True, # <- default1\n",
        "                                          dtype=torch.float\n",
        "                                          ))\n",
        "    self.bias = nn.Parameter(torch.rand(1,\n",
        "                                          requires_grad=True,\n",
        "                                          dtype=torch.float\n",
        "                                          ))\n",
        "    # Forward mwthod to de4fine a computation in the model\n",
        "    def forward(self, x: torch.Tensor) -> torch.Tensor: # x - input(training) data\n",
        "      return self.x * x + self.bias  #this is the linear regression formula"
      ],
      "metadata": {
        "id": "By4s4lCmnzYk"
      },
      "execution_count": 8,
      "outputs": []
    },
    {
      "cell_type": "markdown",
      "source": [
        "Whatthis model does:\n",
        "* Start with random values (weight and bias)\n",
        "* Look at training data and adjust the random numbers to get closer(or better represent) to ideal values ( the weight and bias values we used to create a data) \n",
        "\n",
        "How does it do so?\n",
        "Trough two main algorithms:\n",
        "1. Gradient descent\n",
        "2. Backpropagation\n",
        "\n",
        "Оба этих алгоритма уже написаны в pytorch и будут выполнены за меня, но все равно нужно знать как они работают!"
      ],
      "metadata": {
        "id": "Y3nlOKqAHRX6"
      }
    },
    {
      "cell_type": "code",
      "source": [],
      "metadata": {
        "id": "P36vvcO0HoEA"
      },
      "execution_count": null,
      "outputs": []
    }
  ]
}