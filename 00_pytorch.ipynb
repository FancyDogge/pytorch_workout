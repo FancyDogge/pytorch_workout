{
  "nbformat": 4,
  "nbformat_minor": 0,
  "metadata": {
    "colab": {
      "provenance": [],
      "toc_visible": true
    },
    "kernelspec": {
      "name": "python3",
      "display_name": "Python 3"
    },
    "language_info": {
      "name": "python"
    },
    "gpuClass": "standard",
    "accelerator": "GPU"
  },
  "cells": [
    {
      "cell_type": "code",
      "execution_count": 1,
      "metadata": {
        "id": "9MDQfnMYfjGb"
      },
      "outputs": [],
      "source": [
        "import torch\n",
        "import pandas as pd\n",
        "import numpy as np\n",
        "import matplotlib.pyplot as plt"
      ]
    },
    {
      "cell_type": "code",
      "source": [
        "print(torch.__version__)"
      ],
      "metadata": {
        "colab": {
          "base_uri": "https://localhost:8080/"
        },
        "id": "8GvUx-rKmLno",
        "outputId": "86325cb3-de52-4928-e07e-ba5fe2494b23"
      },
      "execution_count": 2,
      "outputs": [
        {
          "output_type": "stream",
          "name": "stdout",
          "text": [
            "2.0.0+cu118\n"
          ]
        }
      ]
    },
    {
      "cell_type": "markdown",
      "source": [
        "## Tensors\n",
        "\n",
        "### Creating Tensors"
      ],
      "metadata": {
        "id": "SRPOL_60oV2y"
      }
    },
    {
      "cell_type": "markdown",
      "source": [
        "https://pytorch.org/docs/stable/tensors.html"
      ],
      "metadata": {
        "id": "7uKVRq3Zo9CT"
      }
    },
    {
      "cell_type": "code",
      "source": [
        "# Scalar tensor\n",
        "scalar = torch.tensor(7)\n",
        "scalar"
      ],
      "metadata": {
        "colab": {
          "base_uri": "https://localhost:8080/"
        },
        "id": "X-1W5Uy5oaKP",
        "outputId": "621afa8c-2282-4b5e-8543-42729c0297f9"
      },
      "execution_count": 3,
      "outputs": [
        {
          "output_type": "execute_result",
          "data": {
            "text/plain": [
              "tensor(7)"
            ]
          },
          "metadata": {},
          "execution_count": 3
        }
      ]
    },
    {
      "cell_type": "code",
      "source": [
        "# Number of tensor dimentions\n",
        "scalar.ndim"
      ],
      "metadata": {
        "colab": {
          "base_uri": "https://localhost:8080/"
        },
        "id": "W-2Xrfmpot9x",
        "outputId": "9505e458-0d5f-4133-91a2-008150441b63"
      },
      "execution_count": 4,
      "outputs": [
        {
          "output_type": "execute_result",
          "data": {
            "text/plain": [
              "0"
            ]
          },
          "metadata": {},
          "execution_count": 4
        }
      ]
    },
    {
      "cell_type": "code",
      "source": [
        "# Get tensor back as py int\n",
        "scalar.item()"
      ],
      "metadata": {
        "colab": {
          "base_uri": "https://localhost:8080/"
        },
        "id": "fL0vuXabpkcP",
        "outputId": "3ad733b9-c71a-4cb7-8b91-90d195643237"
      },
      "execution_count": 5,
      "outputs": [
        {
          "output_type": "execute_result",
          "data": {
            "text/plain": [
              "7"
            ]
          },
          "metadata": {},
          "execution_count": 5
        }
      ]
    },
    {
      "cell_type": "code",
      "source": [
        "# Vector\n",
        "vector = torch.tensor([7,7])\n",
        "vector.ndim"
      ],
      "metadata": {
        "colab": {
          "base_uri": "https://localhost:8080/"
        },
        "id": "vDrCbYhhpXhA",
        "outputId": "40ad6ec4-d35f-40be-fd7d-2d310200e67c"
      },
      "execution_count": 6,
      "outputs": [
        {
          "output_type": "execute_result",
          "data": {
            "text/plain": [
              "1"
            ]
          },
          "metadata": {},
          "execution_count": 6
        }
      ]
    },
    {
      "cell_type": "code",
      "source": [
        "vector"
      ],
      "metadata": {
        "colab": {
          "base_uri": "https://localhost:8080/"
        },
        "id": "y_g2Dm-lp8_I",
        "outputId": "d6f36af3-1a6e-4b25-9095-2aca841a9a7c"
      },
      "execution_count": 7,
      "outputs": [
        {
          "output_type": "execute_result",
          "data": {
            "text/plain": [
              "tensor([7, 7])"
            ]
          },
          "metadata": {},
          "execution_count": 7
        }
      ]
    },
    {
      "cell_type": "code",
      "source": [
        "vector.shape"
      ],
      "metadata": {
        "colab": {
          "base_uri": "https://localhost:8080/"
        },
        "id": "ymXUBoM6qudt",
        "outputId": "77006421-49ff-4e86-ad5c-85d083953be6"
      },
      "execution_count": 8,
      "outputs": [
        {
          "output_type": "execute_result",
          "data": {
            "text/plain": [
              "torch.Size([2])"
            ]
          },
          "metadata": {},
          "execution_count": 8
        }
      ]
    },
    {
      "cell_type": "code",
      "source": [
        "# MATRIX\n",
        "MATRIX = torch.tensor([\n",
        "    [7,8],\n",
        "    [9,11]\n",
        "])\n",
        "MATRIX"
      ],
      "metadata": {
        "colab": {
          "base_uri": "https://localhost:8080/"
        },
        "id": "WtS0gTqYqxDv",
        "outputId": "1fec10f9-9b89-43c9-8ee7-2d98009e2538"
      },
      "execution_count": 9,
      "outputs": [
        {
          "output_type": "execute_result",
          "data": {
            "text/plain": [
              "tensor([[ 7,  8],\n",
              "        [ 9, 11]])"
            ]
          },
          "metadata": {},
          "execution_count": 9
        }
      ]
    },
    {
      "cell_type": "code",
      "source": [
        "MATRIX.ndim"
      ],
      "metadata": {
        "colab": {
          "base_uri": "https://localhost:8080/"
        },
        "id": "NW6K5nQxrDyP",
        "outputId": "ebdc16bd-9458-4fcc-a5ec-154811fe2f7f"
      },
      "execution_count": 10,
      "outputs": [
        {
          "output_type": "execute_result",
          "data": {
            "text/plain": [
              "2"
            ]
          },
          "metadata": {},
          "execution_count": 10
        }
      ]
    },
    {
      "cell_type": "code",
      "source": [
        "MATRIX[1]"
      ],
      "metadata": {
        "colab": {
          "base_uri": "https://localhost:8080/"
        },
        "id": "Qmv4jQWqrPHP",
        "outputId": "47933871-8238-4101-d0b9-9b60b5b13836"
      },
      "execution_count": 11,
      "outputs": [
        {
          "output_type": "execute_result",
          "data": {
            "text/plain": [
              "tensor([ 9, 11])"
            ]
          },
          "metadata": {},
          "execution_count": 11
        }
      ]
    },
    {
      "cell_type": "code",
      "source": [
        "MATRIX.shape"
      ],
      "metadata": {
        "colab": {
          "base_uri": "https://localhost:8080/"
        },
        "id": "AZ3_JMqTrS2X",
        "outputId": "0dac0d16-36d9-446f-d41c-baae1df73700"
      },
      "execution_count": 12,
      "outputs": [
        {
          "output_type": "execute_result",
          "data": {
            "text/plain": [
              "torch.Size([2, 2])"
            ]
          },
          "metadata": {},
          "execution_count": 12
        }
      ]
    },
    {
      "cell_type": "code",
      "source": [
        "#  TENSOR\n",
        "TENSOR = torch.tensor([[\n",
        "    [1,2,3],\n",
        "    [4,5,6],\n",
        "    [7,8,9]\n",
        "]])\n",
        "TENSOR"
      ],
      "metadata": {
        "colab": {
          "base_uri": "https://localhost:8080/"
        },
        "id": "CUWyYz_rrWoH",
        "outputId": "643d48aa-8557-4ac0-d177-07db63149b63"
      },
      "execution_count": 13,
      "outputs": [
        {
          "output_type": "execute_result",
          "data": {
            "text/plain": [
              "tensor([[[1, 2, 3],\n",
              "         [4, 5, 6],\n",
              "         [7, 8, 9]]])"
            ]
          },
          "metadata": {},
          "execution_count": 13
        }
      ]
    },
    {
      "cell_type": "code",
      "source": [
        "TENSOR.ndim"
      ],
      "metadata": {
        "colab": {
          "base_uri": "https://localhost:8080/"
        },
        "id": "56UIpo-Dr26f",
        "outputId": "fe052c7a-2057-485a-e536-6dcfcceded61"
      },
      "execution_count": 14,
      "outputs": [
        {
          "output_type": "execute_result",
          "data": {
            "text/plain": [
              "3"
            ]
          },
          "metadata": {},
          "execution_count": 14
        }
      ]
    },
    {
      "cell_type": "code",
      "source": [
        "TENSOR.shape"
      ],
      "metadata": {
        "colab": {
          "base_uri": "https://localhost:8080/"
        },
        "id": "JZhwzq5Vr8IO",
        "outputId": "8c76ab5f-bac2-49cc-a10f-2b64f73078f6"
      },
      "execution_count": 15,
      "outputs": [
        {
          "output_type": "execute_result",
          "data": {
            "text/plain": [
              "torch.Size([1, 3, 3])"
            ]
          },
          "metadata": {},
          "execution_count": 15
        }
      ]
    },
    {
      "cell_type": "code",
      "source": [
        "TENSOR[0]"
      ],
      "metadata": {
        "colab": {
          "base_uri": "https://localhost:8080/"
        },
        "id": "UzxygDjLsLOe",
        "outputId": "a80822ba-334e-438b-8320-0029e3168993"
      },
      "execution_count": 16,
      "outputs": [
        {
          "output_type": "execute_result",
          "data": {
            "text/plain": [
              "tensor([[1, 2, 3],\n",
              "        [4, 5, 6],\n",
              "        [7, 8, 9]])"
            ]
          },
          "metadata": {},
          "execution_count": 16
        }
      ]
    },
    {
      "cell_type": "markdown",
      "source": [
        "### Random tensors\n",
        "\n",
        "Why random tensors?\n",
        "\n",
        "Random tensors, потому что многие нейронки учатся, начиная с тенсоров онли из рандомных чисел и потом подправляют их значения, чтобы лучше соответствовать данным\n",
        "\n",
        "`Start with random numbers -> look at data -> update random nums -> look at data -> update randoom nums`"
      ],
      "metadata": {
        "id": "7EvhKe3vCBUk"
      }
    },
    {
      "cell_type": "code",
      "source": [
        "# Create a random tensors of size (2,4)\n",
        "random_tensor = torch.rand(3, 4)\n",
        "random_tensor"
      ],
      "metadata": {
        "colab": {
          "base_uri": "https://localhost:8080/"
        },
        "id": "taDQkG0PCoxb",
        "outputId": "b54e1469-6797-44de-8dba-3a674c1400ba"
      },
      "execution_count": 17,
      "outputs": [
        {
          "output_type": "execute_result",
          "data": {
            "text/plain": [
              "tensor([[0.1184, 0.2688, 0.5587, 0.2061],\n",
              "        [0.6849, 0.2287, 0.5924, 0.4815],\n",
              "        [0.2614, 0.4318, 0.1141, 0.5786]])"
            ]
          },
          "metadata": {},
          "execution_count": 17
        }
      ]
    },
    {
      "cell_type": "code",
      "source": [
        "random_tensor2 = torch.rand(10, 1, 3)\n",
        "random_tensor2"
      ],
      "metadata": {
        "colab": {
          "base_uri": "https://localhost:8080/"
        },
        "id": "0E1NdqHdDYGc",
        "outputId": "eca9a686-7f79-4925-a9e8-763f65d5fe5a"
      },
      "execution_count": 18,
      "outputs": [
        {
          "output_type": "execute_result",
          "data": {
            "text/plain": [
              "tensor([[[0.1494, 0.7210, 0.0436]],\n",
              "\n",
              "        [[0.6911, 0.9075, 0.1458]],\n",
              "\n",
              "        [[0.6648, 0.0853, 0.0447]],\n",
              "\n",
              "        [[0.7203, 0.1300, 0.9386]],\n",
              "\n",
              "        [[0.0685, 0.6952, 0.1862]],\n",
              "\n",
              "        [[0.8130, 0.6247, 0.2429]],\n",
              "\n",
              "        [[0.4996, 0.4623, 0.2653]],\n",
              "\n",
              "        [[0.4334, 0.8327, 0.6943]],\n",
              "\n",
              "        [[0.4359, 0.6719, 0.9803]],\n",
              "\n",
              "        [[0.5350, 0.9365, 0.0318]]])"
            ]
          },
          "metadata": {},
          "execution_count": 18
        }
      ]
    },
    {
      "cell_type": "code",
      "source": [
        "random_tensor.shape"
      ],
      "metadata": {
        "colab": {
          "base_uri": "https://localhost:8080/"
        },
        "id": "unoUnir5DppE",
        "outputId": "858f91c4-4dd4-4907-f061-fbc81c5f3da0"
      },
      "execution_count": 19,
      "outputs": [
        {
          "output_type": "execute_result",
          "data": {
            "text/plain": [
              "torch.Size([3, 4])"
            ]
          },
          "metadata": {},
          "execution_count": 19
        }
      ]
    },
    {
      "cell_type": "code",
      "source": [
        "random_tensor2.shape"
      ],
      "metadata": {
        "colab": {
          "base_uri": "https://localhost:8080/"
        },
        "id": "ehRUwpYJDy2E",
        "outputId": "1a54365e-3df3-410a-e2f2-7f3bc594d973"
      },
      "execution_count": 20,
      "outputs": [
        {
          "output_type": "execute_result",
          "data": {
            "text/plain": [
              "torch.Size([10, 1, 3])"
            ]
          },
          "metadata": {},
          "execution_count": 20
        }
      ]
    },
    {
      "cell_type": "code",
      "source": [
        "random_tensor2.ndim"
      ],
      "metadata": {
        "colab": {
          "base_uri": "https://localhost:8080/"
        },
        "id": "5iReua3VD1-j",
        "outputId": "296b6b3a-1870-4fec-80c1-e329cd669c55"
      },
      "execution_count": 21,
      "outputs": [
        {
          "output_type": "execute_result",
          "data": {
            "text/plain": [
              "3"
            ]
          },
          "metadata": {},
          "execution_count": 21
        }
      ]
    },
    {
      "cell_type": "code",
      "source": [
        "# random tensor with similar shape to an image tensor\n",
        "# size - optional keyword, not really needed\n",
        "rnd_img_size_tensor = torch.rand(size=(224, 224, 3)) #h, w, color chanels\n",
        "rnd_img_size_tensor.shape, rnd_img_size_tensor.ndim"
      ],
      "metadata": {
        "colab": {
          "base_uri": "https://localhost:8080/"
        },
        "id": "i6yhKT5nD6qM",
        "outputId": "90c833ca-6f8d-4a36-e2ba-7a24228f21d6"
      },
      "execution_count": 22,
      "outputs": [
        {
          "output_type": "execute_result",
          "data": {
            "text/plain": [
              "(torch.Size([224, 224, 3]), 3)"
            ]
          },
          "metadata": {},
          "execution_count": 22
        }
      ]
    },
    {
      "cell_type": "markdown",
      "source": [
        "### Zeroes and ones"
      ],
      "metadata": {
        "id": "RaZ7I_70II1t"
      }
    },
    {
      "cell_type": "code",
      "source": [
        "# tensor of all zeros\n",
        "zeros = torch.zeros(3,5)\n",
        "zeros"
      ],
      "metadata": {
        "colab": {
          "base_uri": "https://localhost:8080/"
        },
        "id": "Hfz00bFtIL25",
        "outputId": "9d4544ca-c89c-44ec-867e-d4bc972982ca"
      },
      "execution_count": 23,
      "outputs": [
        {
          "output_type": "execute_result",
          "data": {
            "text/plain": [
              "tensor([[0., 0., 0., 0., 0.],\n",
              "        [0., 0., 0., 0., 0.],\n",
              "        [0., 0., 0., 0., 0.]])"
            ]
          },
          "metadata": {},
          "execution_count": 23
        }
      ]
    },
    {
      "cell_type": "code",
      "source": [
        "ones = torch.ones(3,5)\n",
        "ones"
      ],
      "metadata": {
        "colab": {
          "base_uri": "https://localhost:8080/"
        },
        "id": "B_Wbv62NIXdz",
        "outputId": "4db92b9d-baca-4d48-9a56-797b6f6f532c"
      },
      "execution_count": 24,
      "outputs": [
        {
          "output_type": "execute_result",
          "data": {
            "text/plain": [
              "tensor([[1., 1., 1., 1., 1.],\n",
              "        [1., 1., 1., 1., 1.],\n",
              "        [1., 1., 1., 1., 1.]])"
            ]
          },
          "metadata": {},
          "execution_count": 24
        }
      ]
    },
    {
      "cell_type": "markdown",
      "source": [
        "### Creatingrange of tensors and tensors-like"
      ],
      "metadata": {
        "id": "gk0fFjdH0ccO"
      }
    },
    {
      "cell_type": "code",
      "source": [
        "# torch.range() rкак и python range()\n",
        "x = torch.arange(0, 10, 2)\n",
        "x"
      ],
      "metadata": {
        "colab": {
          "base_uri": "https://localhost:8080/"
        },
        "id": "07QPz0fE0gpX",
        "outputId": "1c938574-2791-4d21-f477-6d17e2d1c87f"
      },
      "execution_count": 25,
      "outputs": [
        {
          "output_type": "execute_result",
          "data": {
            "text/plain": [
              "tensor([0, 2, 4, 6, 8])"
            ]
          },
          "metadata": {},
          "execution_count": 25
        }
      ]
    },
    {
      "cell_type": "code",
      "source": [
        "# creating tensors-like, создает тенсор из нулей(например), такой-же формы(shape), как переданный тенсор\n",
        "five_zeros = torch.zeros_like(x)\n",
        "five_zeros"
      ],
      "metadata": {
        "colab": {
          "base_uri": "https://localhost:8080/"
        },
        "id": "JOk8Zn-j0i-x",
        "outputId": "06409e9c-4198-4376-b65d-5c802f1417c6"
      },
      "execution_count": 26,
      "outputs": [
        {
          "output_type": "execute_result",
          "data": {
            "text/plain": [
              "tensor([0, 0, 0, 0, 0])"
            ]
          },
          "metadata": {},
          "execution_count": 26
        }
      ]
    },
    {
      "cell_type": "markdown",
      "source": [
        "### Tensor datatypes\n",
        "##### 3 main issues when working with pytorrch and deep learning:\n",
        "1. Tensors not right dtype\n",
        "2. Tensors not right shape\n",
        "3. Tensors not on the right device"
      ],
      "metadata": {
        "id": "4Of1iJMB5Zcg"
      }
    },
    {
      "cell_type": "code",
      "source": [
        "#float 32\n",
        "float_32_tensor = torch.tensor([1,3,3,7], dtype=torch.float32)\n",
        "float_32_tensor"
      ],
      "metadata": {
        "colab": {
          "base_uri": "https://localhost:8080/"
        },
        "id": "nWONEk2r5cCQ",
        "outputId": "88847ef1-6e63-4bc1-fcdf-c62c86671df4"
      },
      "execution_count": 27,
      "outputs": [
        {
          "output_type": "execute_result",
          "data": {
            "text/plain": [
              "tensor([1., 3., 3., 7.])"
            ]
          },
          "metadata": {},
          "execution_count": 27
        }
      ]
    },
    {
      "cell_type": "code",
      "source": [
        "float_32_tensor.dtype"
      ],
      "metadata": {
        "colab": {
          "base_uri": "https://localhost:8080/"
        },
        "id": "B-r0wx-e5yyk",
        "outputId": "829297aa-ca23-4032-fafc-ed26c7a129db"
      },
      "execution_count": 28,
      "outputs": [
        {
          "output_type": "execute_result",
          "data": {
            "text/plain": [
              "torch.float32"
            ]
          },
          "metadata": {},
          "execution_count": 28
        }
      ]
    },
    {
      "cell_type": "code",
      "source": [
        "float_32_tensor2 = torch.tensor([1,3,3.,7])\n",
        "float_32_tensor2"
      ],
      "metadata": {
        "colab": {
          "base_uri": "https://localhost:8080/"
        },
        "id": "GTjpctpT50sU",
        "outputId": "b3a02b10-91e9-4f12-e379-6d255dd5ad8b"
      },
      "execution_count": 29,
      "outputs": [
        {
          "output_type": "execute_result",
          "data": {
            "text/plain": [
              "tensor([1., 3., 3., 7.])"
            ]
          },
          "metadata": {},
          "execution_count": 29
        }
      ]
    },
    {
      "cell_type": "code",
      "source": [
        "float_32_tensor2.dtype"
      ],
      "metadata": {
        "colab": {
          "base_uri": "https://localhost:8080/"
        },
        "id": "AJoPDXrE6Vw7",
        "outputId": "7bfac2c9-c628-45f6-fa38-339a3a26e7c1"
      },
      "execution_count": 30,
      "outputs": [
        {
          "output_type": "execute_result",
          "data": {
            "text/plain": [
              "torch.float32"
            ]
          },
          "metadata": {},
          "execution_count": 30
        }
      ]
    },
    {
      "cell_type": "code",
      "source": [
        "float_32_tensor3 = torch.tensor([1.1, 2.2, 3.3], \n",
        "                                dtype=None, #what datatype is tensor\n",
        "                                device=None, #cpu or gpu(cuda)\n",
        "                                requires_grad=False #whether or not to track gradients\n",
        "                                )\n",
        "float_32_tensor3"
      ],
      "metadata": {
        "colab": {
          "base_uri": "https://localhost:8080/"
        },
        "id": "Bi5GSx9d6hJy",
        "outputId": "c5eb16c0-bc8d-4db6-c323-dc6d8cf88c95"
      },
      "execution_count": 31,
      "outputs": [
        {
          "output_type": "execute_result",
          "data": {
            "text/plain": [
              "tensor([1.1000, 2.2000, 3.3000])"
            ]
          },
          "metadata": {},
          "execution_count": 31
        }
      ]
    },
    {
      "cell_type": "code",
      "source": [
        "float_32_tensor3.dtype"
      ],
      "metadata": {
        "colab": {
          "base_uri": "https://localhost:8080/"
        },
        "id": "g3slH6tr7odB",
        "outputId": "8595af28-dce0-45da-e61c-56aeb7c63a3d"
      },
      "execution_count": 32,
      "outputs": [
        {
          "output_type": "execute_result",
          "data": {
            "text/plain": [
              "torch.float32"
            ]
          },
          "metadata": {},
          "execution_count": 32
        }
      ]
    },
    {
      "cell_type": "code",
      "source": [
        "float_16 = float_32_tensor.type(torch.float16)\n",
        "float_16"
      ],
      "metadata": {
        "colab": {
          "base_uri": "https://localhost:8080/"
        },
        "id": "BqVSCC937qhr",
        "outputId": "a1daaddf-2304-4a2c-93a1-9a50663a13e1"
      },
      "execution_count": 33,
      "outputs": [
        {
          "output_type": "execute_result",
          "data": {
            "text/plain": [
              "tensor([1., 3., 3., 7.], dtype=torch.float16)"
            ]
          },
          "metadata": {},
          "execution_count": 33
        }
      ]
    },
    {
      "cell_type": "code",
      "source": [
        "float_16.device"
      ],
      "metadata": {
        "colab": {
          "base_uri": "https://localhost:8080/"
        },
        "id": "orqv2-vfBemC",
        "outputId": "2003a4bb-2354-4937-f66f-8642a82376a6"
      },
      "execution_count": 34,
      "outputs": [
        {
          "output_type": "execute_result",
          "data": {
            "text/plain": [
              "device(type='cpu')"
            ]
          },
          "metadata": {},
          "execution_count": 34
        }
      ]
    },
    {
      "cell_type": "markdown",
      "source": [
        "### Manupulating Tensors (operations)\n",
        "\n",
        "To find patterns in numbers of dataset, the neural network will usually combine all of this:\n",
        "\n",
        "* Addition\n",
        "* Subtraction\n",
        "* Multiplication (element-wise)\n",
        "* Division\n",
        "* Matrix multiplication"
      ],
      "metadata": {
        "id": "5KG3ewVJEp9m"
      }
    },
    {
      "cell_type": "code",
      "source": [
        "# Create a tensor and add 10 to it\n",
        "tensor = torch.tensor([1,2,3])\n",
        "tensor + 10"
      ],
      "metadata": {
        "colab": {
          "base_uri": "https://localhost:8080/"
        },
        "id": "yvoQa4L2FF0P",
        "outputId": "eea961e5-d734-4e39-c74d-7afe70c0b9f7"
      },
      "execution_count": 35,
      "outputs": [
        {
          "output_type": "execute_result",
          "data": {
            "text/plain": [
              "tensor([11, 12, 13])"
            ]
          },
          "metadata": {},
          "execution_count": 35
        }
      ]
    },
    {
      "cell_type": "code",
      "source": [
        "# multiply by 10\n",
        "tensor * 10"
      ],
      "metadata": {
        "colab": {
          "base_uri": "https://localhost:8080/"
        },
        "id": "e4Pgx_lhjwbj",
        "outputId": "744fa924-e4cc-4ad0-b8f3-df9d159e44ea"
      },
      "execution_count": 36,
      "outputs": [
        {
          "output_type": "execute_result",
          "data": {
            "text/plain": [
              "tensor([10, 20, 30])"
            ]
          },
          "metadata": {},
          "execution_count": 36
        }
      ]
    },
    {
      "cell_type": "code",
      "source": [
        "tensor - 10"
      ],
      "metadata": {
        "colab": {
          "base_uri": "https://localhost:8080/"
        },
        "id": "oUrL9yK6j7Yx",
        "outputId": "cc7a0c2c-e6b9-4800-eb41-5953bc2dd2ae"
      },
      "execution_count": 37,
      "outputs": [
        {
          "output_type": "execute_result",
          "data": {
            "text/plain": [
              "tensor([-9, -8, -7])"
            ]
          },
          "metadata": {},
          "execution_count": 37
        }
      ]
    },
    {
      "cell_type": "markdown",
      "source": [
        "#### Marix Multiplication (dot product)\n",
        "\n",
        "Чтобы перемножить матрицы, нам нужно найти так называемый dot product(cкалярное произведение) векторов\n",
        "https://www.mathsisfun.com/algebra/matrix-multiplying.html"
      ],
      "metadata": {
        "id": "suxjJ31zlyiM"
      }
    },
    {
      "cell_type": "code",
      "source": [
        "# Element-wise multiplication\n",
        "tensor * tensor"
      ],
      "metadata": {
        "id": "P0VMijrHmpkh",
        "colab": {
          "base_uri": "https://localhost:8080/"
        },
        "outputId": "4eeb81e3-29a0-46b6-aee3-0e6946221f58"
      },
      "execution_count": 38,
      "outputs": [
        {
          "output_type": "execute_result",
          "data": {
            "text/plain": [
              "tensor([1, 4, 9])"
            ]
          },
          "metadata": {},
          "execution_count": 38
        }
      ]
    },
    {
      "cell_type": "code",
      "source": [
        "# matrix multiplication (dot product) сначала перемножаем элементы как в примере выше, потом складываем результаты умножения\n",
        "torch.matmul(tensor, tensor)"
      ],
      "metadata": {
        "colab": {
          "base_uri": "https://localhost:8080/"
        },
        "id": "QxmSJNcBQP1s",
        "outputId": "7b9616ba-dcfd-409b-d92d-f0bd246e6c42"
      },
      "execution_count": 39,
      "outputs": [
        {
          "output_type": "execute_result",
          "data": {
            "text/plain": [
              "tensor(14)"
            ]
          },
          "metadata": {},
          "execution_count": 39
        }
      ]
    },
    {
      "cell_type": "code",
      "source": [
        "# pytorch methods are very optimized:\n",
        "%%time\n",
        "val = 0\n",
        "for i in range(len(tensor)):   \n",
        "    val += tensor[i]*tensor[i]\n",
        "print(val)"
      ],
      "metadata": {
        "colab": {
          "base_uri": "https://localhost:8080/"
        },
        "id": "riSdYFkxQnDE",
        "outputId": "31ab6ed3-c879-482d-fd44-a857376ab5a1"
      },
      "execution_count": 40,
      "outputs": [
        {
          "output_type": "stream",
          "name": "stdout",
          "text": [
            "tensor(14)\n",
            "CPU times: user 2.09 ms, sys: 12 µs, total: 2.1 ms\n",
            "Wall time: 3.17 ms\n"
          ]
        }
      ]
    },
    {
      "cell_type": "code",
      "source": [
        "%%time\n",
        "torch.matmul(tensor, tensor)"
      ],
      "metadata": {
        "colab": {
          "base_uri": "https://localhost:8080/"
        },
        "id": "fZJqxKSDRpDF",
        "outputId": "50ade00b-26bc-4f90-815c-82450e645e8c"
      },
      "execution_count": 41,
      "outputs": [
        {
          "output_type": "stream",
          "name": "stdout",
          "text": [
            "CPU times: user 27 µs, sys: 5 µs, total: 32 µs\n",
            "Wall time: 35.5 µs\n"
          ]
        },
        {
          "output_type": "execute_result",
          "data": {
            "text/plain": [
              "tensor(14)"
            ]
          },
          "metadata": {},
          "execution_count": 41
        }
      ]
    },
    {
      "cell_type": "markdown",
      "source": [
        "### Two main rules for matrix multiplication:\n",
        "1. The **inner dimentions** must match:\n",
        "* `(3, 2) @ (3, 2)` won't work\n",
        "* `(2, 3) @ (3, 2)` will work\n",
        "* `(3, 2) @ (2, 3)` will work\n",
        "2. The resulting matrix has the shape of the **outer dimentions**:\n",
        "* `(2, 3) @ (3, 2)` -> shape(3, 3)\n",
        "* `(2, 2) @ (2, 3)` -> shape(2, 3)"
      ],
      "metadata": {
        "id": "oRTaD7gsSmK_"
      }
    },
    {
      "cell_type": "code",
      "source": [
        "torch.matmul(torch.rand(2,2), torch.rand(2,3))"
      ],
      "metadata": {
        "colab": {
          "base_uri": "https://localhost:8080/"
        },
        "id": "0SuZbDMrVFqj",
        "outputId": "7b4325d8-e322-481a-cec0-ada7ecdeb427"
      },
      "execution_count": 42,
      "outputs": [
        {
          "output_type": "execute_result",
          "data": {
            "text/plain": [
              "tensor([[0.0915, 1.0365, 0.7525],\n",
              "        [0.0748, 0.7168, 0.5329]])"
            ]
          },
          "metadata": {},
          "execution_count": 42
        }
      ]
    },
    {
      "cell_type": "code",
      "source": [
        "torch.rand(2,2)"
      ],
      "metadata": {
        "colab": {
          "base_uri": "https://localhost:8080/"
        },
        "id": "i8utqLg9VIzb",
        "outputId": "678aba92-160e-42e3-9c8d-745fb8b06ce7"
      },
      "execution_count": 43,
      "outputs": [
        {
          "output_type": "execute_result",
          "data": {
            "text/plain": [
              "tensor([[7.8499e-05, 9.7082e-01],\n",
              "        [3.2869e-01, 3.1348e-01]])"
            ]
          },
          "metadata": {},
          "execution_count": 43
        }
      ]
    },
    {
      "cell_type": "code",
      "source": [
        "torch.rand(2,3)"
      ],
      "metadata": {
        "colab": {
          "base_uri": "https://localhost:8080/"
        },
        "id": "h0_3ggIYVajD",
        "outputId": "411515f3-4347-423b-8694-99016440bb52"
      },
      "execution_count": 44,
      "outputs": [
        {
          "output_type": "execute_result",
          "data": {
            "text/plain": [
              "tensor([[0.1497, 0.2582, 0.1639],\n",
              "        [0.1776, 0.2252, 0.7595]])"
            ]
          },
          "metadata": {},
          "execution_count": 44
        }
      ]
    },
    {
      "cell_type": "code",
      "source": [
        "tensor_A = torch.tensor([\n",
        "    [1,2],\n",
        "    [3,4],\n",
        "    [5,6]\n",
        "])"
      ],
      "metadata": {
        "id": "8-mBQ00CVcAL"
      },
      "execution_count": 45,
      "outputs": []
    },
    {
      "cell_type": "code",
      "source": [
        "tensor_B = torch.tensor([\n",
        "    [7,8],\n",
        "    [8,9],\n",
        "    [9,9]\n",
        "])"
      ],
      "metadata": {
        "id": "XKl3xR0SmgHX"
      },
      "execution_count": 46,
      "outputs": []
    },
    {
      "cell_type": "code",
      "source": [
        "# torch.mm - alias for matmul\n",
        "# torch.mm(tensor_A, tensor_B)"
      ],
      "metadata": {
        "id": "hnOOE0ZJmkA4"
      },
      "execution_count": 47,
      "outputs": []
    },
    {
      "cell_type": "code",
      "source": [
        "# RuntimeError: mat1 and mat2 shapes cannot be multiplied (3x2 and 3x2)\n",
        "# To fix this we can manipulate on of the tensors using a **transpose**"
      ],
      "metadata": {
        "id": "SRZ_M527mqvQ"
      },
      "execution_count": 48,
      "outputs": []
    },
    {
      "cell_type": "code",
      "source": [
        "# transpose switches the axes or dimentions of a given tensor\n",
        "tensor_B"
      ],
      "metadata": {
        "colab": {
          "base_uri": "https://localhost:8080/"
        },
        "id": "1pngcPQ-m3kQ",
        "outputId": "4c40b714-fc25-4d7f-a486-c8ac1a798313"
      },
      "execution_count": 49,
      "outputs": [
        {
          "output_type": "execute_result",
          "data": {
            "text/plain": [
              "tensor([[7, 8],\n",
              "        [8, 9],\n",
              "        [9, 9]])"
            ]
          },
          "metadata": {},
          "execution_count": 49
        }
      ]
    },
    {
      "cell_type": "code",
      "source": [
        "# T - transpose\n",
        "tensor_B.T"
      ],
      "metadata": {
        "colab": {
          "base_uri": "https://localhost:8080/"
        },
        "id": "_8E2zlkMnRqZ",
        "outputId": "8efd57a2-9b8e-4506-9345-3f6a42717b7c"
      },
      "execution_count": 50,
      "outputs": [
        {
          "output_type": "execute_result",
          "data": {
            "text/plain": [
              "tensor([[7, 8, 9],\n",
              "        [8, 9, 9]])"
            ]
          },
          "metadata": {},
          "execution_count": 50
        }
      ]
    },
    {
      "cell_type": "code",
      "source": [
        "# Теперь ошибки нету, т.к. мы изменили форму тенсора B\n",
        "torch.mm(tensor_A, tensor_B.T)"
      ],
      "metadata": {
        "id": "ZFLailktnSgI",
        "colab": {
          "base_uri": "https://localhost:8080/"
        },
        "outputId": "c580d042-8d89-44af-8513-bcd7188c62be"
      },
      "execution_count": 51,
      "outputs": [
        {
          "output_type": "execute_result",
          "data": {
            "text/plain": [
              "tensor([[23, 26, 27],\n",
              "        [53, 60, 63],\n",
              "        [83, 94, 99]])"
            ]
          },
          "metadata": {},
          "execution_count": 51
        }
      ]
    },
    {
      "cell_type": "markdown",
      "source": [
        "## Finding min, max, mean, sum etc (tensor aggregation)"
      ],
      "metadata": {
        "id": "1ZUO8azj1e2p"
      }
    },
    {
      "cell_type": "code",
      "source": [
        "# Create a tensor\n",
        "t = torch.arange(0, 100, 10)\n",
        "t, t.dtype"
      ],
      "metadata": {
        "colab": {
          "base_uri": "https://localhost:8080/"
        },
        "id": "N_T4Eygd1fdD",
        "outputId": "5cb6a130-5ef1-4ab0-b110-b1ac21b0b199"
      },
      "execution_count": 52,
      "outputs": [
        {
          "output_type": "execute_result",
          "data": {
            "text/plain": [
              "(tensor([ 0, 10, 20, 30, 40, 50, 60, 70, 80, 90]), torch.int64)"
            ]
          },
          "metadata": {},
          "execution_count": 52
        }
      ]
    },
    {
      "cell_type": "code",
      "source": [
        "# find min and max\n",
        "t.min(), torch.min(t)"
      ],
      "metadata": {
        "id": "K2VSP9Cp-rJ0",
        "colab": {
          "base_uri": "https://localhost:8080/"
        },
        "outputId": "0321422b-ab6c-473b-c76f-da2d66f9d9c6"
      },
      "execution_count": 53,
      "outputs": [
        {
          "output_type": "execute_result",
          "data": {
            "text/plain": [
              "(tensor(0), tensor(0))"
            ]
          },
          "metadata": {},
          "execution_count": 53
        }
      ]
    },
    {
      "cell_type": "code",
      "source": [
        "t.max(), torch.max(t)"
      ],
      "metadata": {
        "colab": {
          "base_uri": "https://localhost:8080/"
        },
        "id": "owfwJ5wpVvWu",
        "outputId": "24bab163-cae6-487f-9568-dc22324955f7"
      },
      "execution_count": 54,
      "outputs": [
        {
          "output_type": "execute_result",
          "data": {
            "text/plain": [
              "(tensor(90), tensor(90))"
            ]
          },
          "metadata": {},
          "execution_count": 54
        }
      ]
    },
    {
      "cell_type": "code",
      "source": [
        "# t.mean(), torch.mean(t)\n",
        "# RuntimeError: mean(): could not infer output dtype. Input dtype must be either \n",
        "# a floating point or complex dtype. Got: Long"
      ],
      "metadata": {
        "id": "-JPB_aE6ZSrt"
      },
      "execution_count": 55,
      "outputs": []
    },
    {
      "cell_type": "code",
      "source": [
        "torch.mean(t, dtype=torch.float32), torch.mean(t.type(torch.float32))"
      ],
      "metadata": {
        "colab": {
          "base_uri": "https://localhost:8080/"
        },
        "id": "G2a45K14Zcub",
        "outputId": "2e584215-0b55-4efe-8620-9a113e0bb5f6"
      },
      "execution_count": 56,
      "outputs": [
        {
          "output_type": "execute_result",
          "data": {
            "text/plain": [
              "(tensor(45.), tensor(45.))"
            ]
          },
          "metadata": {},
          "execution_count": 56
        }
      ]
    },
    {
      "cell_type": "code",
      "source": [
        "# sum\n",
        "t.sum(), torch.sum(t)"
      ],
      "metadata": {
        "colab": {
          "base_uri": "https://localhost:8080/"
        },
        "id": "KkiUusHmarFX",
        "outputId": "ca442075-a2f5-4882-996a-b7a3561a9fa9"
      },
      "execution_count": 57,
      "outputs": [
        {
          "output_type": "execute_result",
          "data": {
            "text/plain": [
              "(tensor(450), tensor(450))"
            ]
          },
          "metadata": {},
          "execution_count": 57
        }
      ]
    },
    {
      "cell_type": "code",
      "source": [
        "# finding indicies of min max\n",
        "t.argmin()"
      ],
      "metadata": {
        "colab": {
          "base_uri": "https://localhost:8080/"
        },
        "id": "4SnEQmt2ccxB",
        "outputId": "30ee21e1-306e-439b-a987-079715338c00"
      },
      "execution_count": 58,
      "outputs": [
        {
          "output_type": "execute_result",
          "data": {
            "text/plain": [
              "tensor(0)"
            ]
          },
          "metadata": {},
          "execution_count": 58
        }
      ]
    },
    {
      "cell_type": "code",
      "source": [
        "t.argmax()"
      ],
      "metadata": {
        "colab": {
          "base_uri": "https://localhost:8080/"
        },
        "id": "vWt-e66DdkEx",
        "outputId": "83c62229-c6e0-4645-cb8b-e4bec5c777da"
      },
      "execution_count": 59,
      "outputs": [
        {
          "output_type": "execute_result",
          "data": {
            "text/plain": [
              "tensor(9)"
            ]
          },
          "metadata": {},
          "execution_count": 59
        }
      ]
    },
    {
      "cell_type": "markdown",
      "source": [
        "## reshaping, stacking, squeezing, unsqueezing\n",
        "* Reshaping - rashapes tensor to a defined form\n",
        "* View - return a view of a tensor of certain shape, not changing anything\n",
        "* Stacking - combine multiple tensors on top of each other(vstack) or side by side (hstach)\n",
        "* Squeeze - removes all single dimentions from a tensor\n",
        "* Unsqueeze - adds a single dimention to a target tensor\n",
        "* Permute - return a view of the input with dimentions permuted (swapped) in a certain way"
      ],
      "metadata": {
        "id": "AIIceq_KfecJ"
      }
    },
    {
      "cell_type": "code",
      "source": [
        "import torch\n",
        "x = torch.arange(1., 11.)\n",
        "x, x.shape"
      ],
      "metadata": {
        "colab": {
          "base_uri": "https://localhost:8080/"
        },
        "id": "jGQk4nWPfhHM",
        "outputId": "42f07074-d5c1-4a06-d27e-ef368d93d490"
      },
      "execution_count": 60,
      "outputs": [
        {
          "output_type": "execute_result",
          "data": {
            "text/plain": [
              "(tensor([ 1.,  2.,  3.,  4.,  5.,  6.,  7.,  8.,  9., 10.]), torch.Size([10]))"
            ]
          },
          "metadata": {},
          "execution_count": 60
        }
      ]
    },
    {
      "cell_type": "code",
      "source": [
        "# Add an extra dimention\n",
        "# т.к оригинальный тенсор формы просто 10, то его можно разбить на 2 и 5 или 1 и 10 или 10 и 1, w/e\n",
        "x_reshaped = x.reshape(5, 2)\n",
        "x_reshaped, x_reshaped.shape"
      ],
      "metadata": {
        "colab": {
          "base_uri": "https://localhost:8080/"
        },
        "id": "QyMuTgmWh8I1",
        "outputId": "11058009-8cc0-44a8-c06a-33be5f6ea030"
      },
      "execution_count": 61,
      "outputs": [
        {
          "output_type": "execute_result",
          "data": {
            "text/plain": [
              "(tensor([[ 1.,  2.],\n",
              "         [ 3.,  4.],\n",
              "         [ 5.,  6.],\n",
              "         [ 7.,  8.],\n",
              "         [ 9., 10.]]),\n",
              " torch.Size([5, 2]))"
            ]
          },
          "metadata": {},
          "execution_count": 61
        }
      ]
    },
    {
      "cell_type": "code",
      "source": [
        "# Change the view - тот же результат, чтолько мы обращаемся к той же ячейки памяти, где и х\n",
        "z = x.view(5, 2)\n",
        "z, z.shape"
      ],
      "metadata": {
        "colab": {
          "base_uri": "https://localhost:8080/"
        },
        "id": "rMd3G3G6h8C3",
        "outputId": "667c2e70-a689-4fd3-b186-e4a537cd9631"
      },
      "execution_count": 62,
      "outputs": [
        {
          "output_type": "execute_result",
          "data": {
            "text/plain": [
              "(tensor([[ 1.,  2.],\n",
              "         [ 3.,  4.],\n",
              "         [ 5.,  6.],\n",
              "         [ 7.,  8.],\n",
              "         [ 9., 10.]]),\n",
              " torch.Size([5, 2]))"
            ]
          },
          "metadata": {},
          "execution_count": 62
        }
      ]
    },
    {
      "cell_type": "code",
      "source": [
        "# Таким образом, поменяв z, мы поменяем и x\n",
        "z[:, 0] = 5\n",
        "z, x"
      ],
      "metadata": {
        "colab": {
          "base_uri": "https://localhost:8080/"
        },
        "id": "peAoMIq4h79R",
        "outputId": "c163162d-9b53-498c-ddd3-fda94b23f5d3"
      },
      "execution_count": 63,
      "outputs": [
        {
          "output_type": "execute_result",
          "data": {
            "text/plain": [
              "(tensor([[ 5.,  2.],\n",
              "         [ 5.,  4.],\n",
              "         [ 5.,  6.],\n",
              "         [ 5.,  8.],\n",
              "         [ 5., 10.]]),\n",
              " tensor([ 5.,  2.,  5.,  4.,  5.,  6.,  5.,  8.,  5., 10.]))"
            ]
          },
          "metadata": {},
          "execution_count": 63
        }
      ]
    },
    {
      "cell_type": "code",
      "source": [
        "# stack tensors on top of each other\n",
        "x_stacked = torch.stack([x,x,x])\n",
        "x_stacked, x_stacked.shape"
      ],
      "metadata": {
        "colab": {
          "base_uri": "https://localhost:8080/"
        },
        "id": "Wa1LQi9yuz2y",
        "outputId": "122e776f-6435-4676-a49c-3012ef707a18"
      },
      "execution_count": 64,
      "outputs": [
        {
          "output_type": "execute_result",
          "data": {
            "text/plain": [
              "(tensor([[ 5.,  2.,  5.,  4.,  5.,  6.,  5.,  8.,  5., 10.],\n",
              "         [ 5.,  2.,  5.,  4.,  5.,  6.,  5.,  8.,  5., 10.],\n",
              "         [ 5.,  2.,  5.,  4.,  5.,  6.,  5.,  8.,  5., 10.]]),\n",
              " torch.Size([3, 10]))"
            ]
          },
          "metadata": {},
          "execution_count": 64
        }
      ]
    },
    {
      "cell_type": "code",
      "source": [
        "# optional attribute dim=\n",
        "x_stacked = torch.stack([x], dim=1)\n",
        "x_stacked, x_stacked.shape\n",
        "# это как hstack и vstack"
      ],
      "metadata": {
        "colab": {
          "base_uri": "https://localhost:8080/"
        },
        "id": "d99LmPmHuzwC",
        "outputId": "7fc67376-fc56-4cc0-e566-9ce8c0996874"
      },
      "execution_count": 65,
      "outputs": [
        {
          "output_type": "execute_result",
          "data": {
            "text/plain": [
              "(tensor([[ 5.],\n",
              "         [ 2.],\n",
              "         [ 5.],\n",
              "         [ 4.],\n",
              "         [ 5.],\n",
              "         [ 6.],\n",
              "         [ 5.],\n",
              "         [ 8.],\n",
              "         [ 5.],\n",
              "         [10.]]),\n",
              " torch.Size([10, 1]))"
            ]
          },
          "metadata": {},
          "execution_count": 65
        }
      ]
    },
    {
      "cell_type": "code",
      "source": [
        "# squeeze\n",
        "# The returned tensor shares the storage with the input tensor, so changing the contents of one will change the contents of the other.\n",
        "sq = x_stacked.squeeze()\n",
        "sq, sq.shape"
      ],
      "metadata": {
        "colab": {
          "base_uri": "https://localhost:8080/"
        },
        "id": "fC7jGOTwuzpf",
        "outputId": "c409f3e2-6830-4666-d440-909f8124c856"
      },
      "execution_count": 66,
      "outputs": [
        {
          "output_type": "execute_result",
          "data": {
            "text/plain": [
              "(tensor([ 5.,  2.,  5.,  4.,  5.,  6.,  5.,  8.,  5., 10.]), torch.Size([10]))"
            ]
          },
          "metadata": {},
          "execution_count": 66
        }
      ]
    },
    {
      "cell_type": "code",
      "source": [
        "# torch.unsqueeze \n",
        "unsq = sq.unsqueeze(dim=0)\n",
        "unsq, unsq.shape"
      ],
      "metadata": {
        "id": "ntVZSAOquziJ",
        "colab": {
          "base_uri": "https://localhost:8080/"
        },
        "outputId": "7fcde8d4-8875-4610-e96b-9161d8f83506"
      },
      "execution_count": 67,
      "outputs": [
        {
          "output_type": "execute_result",
          "data": {
            "text/plain": [
              "(tensor([[ 5.,  2.,  5.,  4.,  5.,  6.,  5.,  8.,  5., 10.]]),\n",
              " torch.Size([1, 10]))"
            ]
          },
          "metadata": {},
          "execution_count": 67
        }
      ]
    },
    {
      "cell_type": "code",
      "source": [
        "unsq = sq.unsqueeze(dim=1)\n",
        "unsq, unsq.shape"
      ],
      "metadata": {
        "id": "RAchf9Q9Z8-1",
        "colab": {
          "base_uri": "https://localhost:8080/"
        },
        "outputId": "fffbfd8e-6c68-41e0-b849-cae26551e114"
      },
      "execution_count": 68,
      "outputs": [
        {
          "output_type": "execute_result",
          "data": {
            "text/plain": [
              "(tensor([[ 5.],\n",
              "         [ 2.],\n",
              "         [ 5.],\n",
              "         [ 4.],\n",
              "         [ 5.],\n",
              "         [ 6.],\n",
              "         [ 5.],\n",
              "         [ 8.],\n",
              "         [ 5.],\n",
              "         [10.]]),\n",
              " torch.Size([10, 1]))"
            ]
          },
          "metadata": {},
          "execution_count": 68
        }
      ]
    },
    {
      "cell_type": "code",
      "source": [
        "# permute - returns a View! of the original tensor  with dimentions permuted(rearranged)\n",
        "a = torch.randn(2, 3, 5)\n",
        "a, a.shape"
      ],
      "metadata": {
        "colab": {
          "base_uri": "https://localhost:8080/"
        },
        "id": "3eYM3zIDUnM8",
        "outputId": "1a604132-d80b-44ea-d53c-f6a3d3ede1b0"
      },
      "execution_count": 69,
      "outputs": [
        {
          "output_type": "execute_result",
          "data": {
            "text/plain": [
              "(tensor([[[ 0.6717,  0.7379,  0.2934, -0.0106,  0.2557],\n",
              "          [-1.8765,  1.1827, -0.1308,  0.3785, -1.2129],\n",
              "          [ 1.5523,  0.7643, -0.7788,  1.4559,  1.1180]],\n",
              " \n",
              "         [[ 0.7392,  1.1062,  0.9759, -0.2611,  1.1464],\n",
              "          [-0.4060,  0.5459, -1.2011,  0.0052,  0.6816],\n",
              "          [-0.0837,  0.0263,  0.0562, -1.8841, -0.4475]]]),\n",
              " torch.Size([2, 3, 5]))"
            ]
          },
          "metadata": {},
          "execution_count": 69
        }
      ]
    },
    {
      "cell_type": "code",
      "source": [
        "b = a.permute((2, 0, 1))\n",
        "# b = torch.permute(a, (2, 0, 1))"
      ],
      "metadata": {
        "id": "NIYOYb7zVYK7"
      },
      "execution_count": 70,
      "outputs": []
    },
    {
      "cell_type": "code",
      "source": [
        "b, b.shape"
      ],
      "metadata": {
        "colab": {
          "base_uri": "https://localhost:8080/"
        },
        "id": "lk1KiMpbViso",
        "outputId": "1b2c2c2f-b767-48ad-eb27-5b068910583b"
      },
      "execution_count": 71,
      "outputs": [
        {
          "output_type": "execute_result",
          "data": {
            "text/plain": [
              "(tensor([[[ 0.6717, -1.8765,  1.5523],\n",
              "          [ 0.7392, -0.4060, -0.0837]],\n",
              " \n",
              "         [[ 0.7379,  1.1827,  0.7643],\n",
              "          [ 1.1062,  0.5459,  0.0263]],\n",
              " \n",
              "         [[ 0.2934, -0.1308, -0.7788],\n",
              "          [ 0.9759, -1.2011,  0.0562]],\n",
              " \n",
              "         [[-0.0106,  0.3785,  1.4559],\n",
              "          [-0.2611,  0.0052, -1.8841]],\n",
              " \n",
              "         [[ 0.2557, -1.2129,  1.1180],\n",
              "          [ 1.1464,  0.6816, -0.4475]]]),\n",
              " torch.Size([5, 2, 3]))"
            ]
          },
          "metadata": {},
          "execution_count": 71
        }
      ]
    },
    {
      "cell_type": "code",
      "source": [
        "x_original = torch.rand((224, 224, 3)) # - height, width, color_channels\n",
        "x_original, x_original.shape"
      ],
      "metadata": {
        "colab": {
          "base_uri": "https://localhost:8080/"
        },
        "id": "ffIEBOjrVk6Q",
        "outputId": "fa9e7b94-9617-4af0-817e-0fdd4d7121e1"
      },
      "execution_count": 72,
      "outputs": [
        {
          "output_type": "execute_result",
          "data": {
            "text/plain": [
              "(tensor([[[0.2934, 0.1420, 0.1630],\n",
              "          [0.1198, 0.7428, 0.2655],\n",
              "          [0.0206, 0.8408, 0.3721],\n",
              "          ...,\n",
              "          [0.6562, 0.3764, 0.3460],\n",
              "          [0.7521, 0.2478, 0.3201],\n",
              "          [0.9615, 0.9255, 0.6735]],\n",
              " \n",
              "         [[0.6918, 0.8791, 0.8038],\n",
              "          [0.1998, 0.4859, 0.9126],\n",
              "          [0.2649, 0.0042, 0.9975],\n",
              "          ...,\n",
              "          [0.4582, 0.9025, 0.3356],\n",
              "          [0.5032, 0.1030, 0.6557],\n",
              "          [0.1519, 0.1956, 0.8974]],\n",
              " \n",
              "         [[0.9286, 0.8778, 0.1084],\n",
              "          [0.5349, 0.7359, 0.3201],\n",
              "          [0.7674, 0.0450, 0.7094],\n",
              "          ...,\n",
              "          [0.9624, 0.4910, 0.2239],\n",
              "          [0.0110, 0.9807, 0.6165],\n",
              "          [0.2596, 0.3339, 0.2961]],\n",
              " \n",
              "         ...,\n",
              " \n",
              "         [[0.7121, 0.6670, 0.0201],\n",
              "          [0.3237, 0.8547, 0.6065],\n",
              "          [0.5789, 0.9490, 0.5989],\n",
              "          ...,\n",
              "          [0.1782, 0.7890, 0.0466],\n",
              "          [0.4911, 0.6443, 0.8089],\n",
              "          [0.2099, 0.5039, 0.6225]],\n",
              " \n",
              "         [[0.2738, 0.7568, 0.2055],\n",
              "          [0.2282, 0.4777, 0.4028],\n",
              "          [0.0943, 0.3887, 0.4951],\n",
              "          ...,\n",
              "          [0.2664, 0.9200, 0.8278],\n",
              "          [0.7373, 0.0827, 0.6126],\n",
              "          [0.5911, 0.1542, 0.3753]],\n",
              " \n",
              "         [[0.4804, 0.6797, 0.2336],\n",
              "          [0.0975, 0.6837, 0.5715],\n",
              "          [0.6310, 0.9013, 0.0088],\n",
              "          ...,\n",
              "          [0.4003, 0.0432, 0.9730],\n",
              "          [0.8185, 0.1195, 0.4288],\n",
              "          [0.0559, 0.0716, 0.0563]]]),\n",
              " torch.Size([224, 224, 3]))"
            ]
          },
          "metadata": {},
          "execution_count": 72
        }
      ]
    },
    {
      "cell_type": "code",
      "source": [
        "x_permuted = x_original.permute(2, 0, 1)\n",
        "x_permuted, x_permuted.shape"
      ],
      "metadata": {
        "colab": {
          "base_uri": "https://localhost:8080/"
        },
        "id": "aR7Y_uhRinG0",
        "outputId": "9d388ca6-1114-47ec-a9b0-54f0c39686cd"
      },
      "execution_count": 73,
      "outputs": [
        {
          "output_type": "execute_result",
          "data": {
            "text/plain": [
              "(tensor([[[0.2934, 0.1198, 0.0206,  ..., 0.6562, 0.7521, 0.9615],\n",
              "          [0.6918, 0.1998, 0.2649,  ..., 0.4582, 0.5032, 0.1519],\n",
              "          [0.9286, 0.5349, 0.7674,  ..., 0.9624, 0.0110, 0.2596],\n",
              "          ...,\n",
              "          [0.7121, 0.3237, 0.5789,  ..., 0.1782, 0.4911, 0.2099],\n",
              "          [0.2738, 0.2282, 0.0943,  ..., 0.2664, 0.7373, 0.5911],\n",
              "          [0.4804, 0.0975, 0.6310,  ..., 0.4003, 0.8185, 0.0559]],\n",
              " \n",
              "         [[0.1420, 0.7428, 0.8408,  ..., 0.3764, 0.2478, 0.9255],\n",
              "          [0.8791, 0.4859, 0.0042,  ..., 0.9025, 0.1030, 0.1956],\n",
              "          [0.8778, 0.7359, 0.0450,  ..., 0.4910, 0.9807, 0.3339],\n",
              "          ...,\n",
              "          [0.6670, 0.8547, 0.9490,  ..., 0.7890, 0.6443, 0.5039],\n",
              "          [0.7568, 0.4777, 0.3887,  ..., 0.9200, 0.0827, 0.1542],\n",
              "          [0.6797, 0.6837, 0.9013,  ..., 0.0432, 0.1195, 0.0716]],\n",
              " \n",
              "         [[0.1630, 0.2655, 0.3721,  ..., 0.3460, 0.3201, 0.6735],\n",
              "          [0.8038, 0.9126, 0.9975,  ..., 0.3356, 0.6557, 0.8974],\n",
              "          [0.1084, 0.3201, 0.7094,  ..., 0.2239, 0.6165, 0.2961],\n",
              "          ...,\n",
              "          [0.0201, 0.6065, 0.5989,  ..., 0.0466, 0.8089, 0.6225],\n",
              "          [0.2055, 0.4028, 0.4951,  ..., 0.8278, 0.6126, 0.3753],\n",
              "          [0.2336, 0.5715, 0.0088,  ..., 0.9730, 0.4288, 0.0563]]]),\n",
              " torch.Size([3, 224, 224]))"
            ]
          },
          "metadata": {},
          "execution_count": 73
        }
      ]
    },
    {
      "cell_type": "code",
      "source": [
        "# Наопминалка - permuted в той же ячейке памяти"
      ],
      "metadata": {
        "id": "_4bkcjqWpbmW"
      },
      "execution_count": 74,
      "outputs": []
    },
    {
      "cell_type": "markdown",
      "source": [
        "## Indexing, similar to numpy"
      ],
      "metadata": {
        "id": "gWhraL2APPHG"
      }
    },
    {
      "cell_type": "code",
      "source": [
        "# create a tensor\n",
        "import torch\n",
        "x = torch.arange(1, 10).reshape(1, 3, 3) #1x3x3 = 9\n",
        "x, x.shape"
      ],
      "metadata": {
        "colab": {
          "base_uri": "https://localhost:8080/"
        },
        "id": "YV4CubkWPaXD",
        "outputId": "2e494fea-cce9-4339-e0ab-216752344a32"
      },
      "execution_count": 75,
      "outputs": [
        {
          "output_type": "execute_result",
          "data": {
            "text/plain": [
              "(tensor([[[1, 2, 3],\n",
              "          [4, 5, 6],\n",
              "          [7, 8, 9]]]),\n",
              " torch.Size([1, 3, 3]))"
            ]
          },
          "metadata": {},
          "execution_count": 75
        }
      ]
    },
    {
      "cell_type": "code",
      "source": [
        "# lets index into our tensor\n",
        "x[0]"
      ],
      "metadata": {
        "colab": {
          "base_uri": "https://localhost:8080/"
        },
        "id": "xTbL-g2wPcKm",
        "outputId": "0e3efb59-4ce0-4a0c-d454-20ff2f69351a"
      },
      "execution_count": 76,
      "outputs": [
        {
          "output_type": "execute_result",
          "data": {
            "text/plain": [
              "tensor([[1, 2, 3],\n",
              "        [4, 5, 6],\n",
              "        [7, 8, 9]])"
            ]
          },
          "metadata": {},
          "execution_count": 76
        }
      ]
    },
    {
      "cell_type": "code",
      "source": [
        "# lets index in the middle\n",
        "x[0, 1], x[0][1]"
      ],
      "metadata": {
        "colab": {
          "base_uri": "https://localhost:8080/"
        },
        "id": "m3DQnpqySlm-",
        "outputId": "481eaae7-eb93-40c6-97d2-164b6cca7bb3"
      },
      "execution_count": 77,
      "outputs": [
        {
          "output_type": "execute_result",
          "data": {
            "text/plain": [
              "(tensor([4, 5, 6]), tensor([4, 5, 6]))"
            ]
          },
          "metadata": {},
          "execution_count": 77
        }
      ]
    },
    {
      "cell_type": "code",
      "source": [
        "# index of 5\n",
        "x[0, 1, 1], x[0][1][1]"
      ],
      "metadata": {
        "colab": {
          "base_uri": "https://localhost:8080/"
        },
        "id": "4cbQ1YWhSxXl",
        "outputId": "cd91e9b2-17fe-456c-e833-3fd0b78d79e2"
      },
      "execution_count": 78,
      "outputs": [
        {
          "output_type": "execute_result",
          "data": {
            "text/plain": [
              "(tensor(5), tensor(5))"
            ]
          },
          "metadata": {},
          "execution_count": 78
        }
      ]
    },
    {
      "cell_type": "code",
      "source": [
        "# we can use : to access all indecies of selected dimention"
      ],
      "metadata": {
        "id": "NZ8c-t-lS-E2"
      },
      "execution_count": 79,
      "outputs": []
    },
    {
      "cell_type": "code",
      "source": [
        "# take all of 0 and 1 dims and only 1st indecies of 2nd dim\n",
        "x[:, :, 1]"
      ],
      "metadata": {
        "colab": {
          "base_uri": "https://localhost:8080/"
        },
        "id": "zlExmdm2e-B5",
        "outputId": "d28e627f-be63-4122-f7ce-7c7670806e76"
      },
      "execution_count": 80,
      "outputs": [
        {
          "output_type": "execute_result",
          "data": {
            "text/plain": [
              "tensor([[2, 5, 8]])"
            ]
          },
          "metadata": {},
          "execution_count": 80
        }
      ]
    },
    {
      "cell_type": "code",
      "source": [
        "# all from 0 but only 1 index from 1d and 2d\n",
        "x[:, 1, 1]"
      ],
      "metadata": {
        "colab": {
          "base_uri": "https://localhost:8080/"
        },
        "id": "xt9vL2M_fBQp",
        "outputId": "bfad12c5-855c-4003-848e-a3cab3da1d56"
      },
      "execution_count": 81,
      "outputs": [
        {
          "output_type": "execute_result",
          "data": {
            "text/plain": [
              "tensor([5])"
            ]
          },
          "metadata": {},
          "execution_count": 81
        }
      ]
    },
    {
      "cell_type": "markdown",
      "source": [
        "## Pytorch tensors and NumPy\n",
        "\n",
        "* Data in Numpy - want in PyTorch tensor -> `torch.from_numpy(ndarray)`\n",
        "* From torch to NumPy -> `torch.Tensor.numpy()`\n"
      ],
      "metadata": {
        "id": "DxzDbF4bklOx"
      }
    },
    {
      "cell_type": "code",
      "source": [
        "import torch\n",
        "import numpy as np\n",
        "\n",
        "array = np.arange(1., 8.)\n",
        "tensor = torch.from_numpy(array) # to make default torch dtype - .type(torch.float32)\n",
        "\n",
        "array, tensor"
      ],
      "metadata": {
        "colab": {
          "base_uri": "https://localhost:8080/"
        },
        "id": "n3fJOR0oTTXe",
        "outputId": "9e96452f-aaa1-4aac-e7e9-06b9bb726f6e"
      },
      "execution_count": 82,
      "outputs": [
        {
          "output_type": "execute_result",
          "data": {
            "text/plain": [
              "(array([1., 2., 3., 4., 5., 6., 7.]),\n",
              " tensor([1., 2., 3., 4., 5., 6., 7.], dtype=torch.float64))"
            ]
          },
          "metadata": {},
          "execution_count": 82
        }
      ]
    },
    {
      "cell_type": "code",
      "source": [
        "array.dtype"
      ],
      "metadata": {
        "colab": {
          "base_uri": "https://localhost:8080/"
        },
        "id": "xrUJhG55T3Vu",
        "outputId": "da1e6d1d-6cef-4412-a860-b65f96c68b4b"
      },
      "execution_count": 83,
      "outputs": [
        {
          "output_type": "execute_result",
          "data": {
            "text/plain": [
              "dtype('float64')"
            ]
          },
          "metadata": {},
          "execution_count": 83
        }
      ]
    },
    {
      "cell_type": "code",
      "source": [
        "torch.arange(1., 8.).dtype"
      ],
      "metadata": {
        "colab": {
          "base_uri": "https://localhost:8080/"
        },
        "id": "F7_blIU0UxZX",
        "outputId": "1156f069-a857-44d1-a27c-afd16a3b7e92"
      },
      "execution_count": 84,
      "outputs": [
        {
          "output_type": "execute_result",
          "data": {
            "text/plain": [
              "torch.float32"
            ]
          },
          "metadata": {},
          "execution_count": 84
        }
      ]
    },
    {
      "cell_type": "code",
      "source": [
        "# Change the value of array, what will it do to `tensor` ? (same with tensor to numpy)"
      ],
      "metadata": {
        "id": "AinpKrjFU1sG"
      },
      "execution_count": 85,
      "outputs": []
    },
    {
      "cell_type": "code",
      "source": [
        "array = array + 1\n",
        "array, tensor"
      ],
      "metadata": {
        "colab": {
          "base_uri": "https://localhost:8080/"
        },
        "id": "kJyfS-DAVXwm",
        "outputId": "cc3bf718-057a-498c-f84d-5b54714c4495"
      },
      "execution_count": 86,
      "outputs": [
        {
          "output_type": "execute_result",
          "data": {
            "text/plain": [
              "(array([2., 3., 4., 5., 6., 7., 8.]),\n",
              " tensor([1., 2., 3., 4., 5., 6., 7.], dtype=torch.float64))"
            ]
          },
          "metadata": {},
          "execution_count": 86
        }
      ]
    },
    {
      "cell_type": "code",
      "source": [
        "# tensor to NumPy\n",
        "tensor = torch.arange(1,5)\n",
        "numpy_tensor = tensor.numpy()\n",
        "tensor, numpy_tensor"
      ],
      "metadata": {
        "colab": {
          "base_uri": "https://localhost:8080/"
        },
        "id": "IoPZK7AzVhV2",
        "outputId": "83989041-bd6d-4106-82cd-1e36bc2018cd"
      },
      "execution_count": 87,
      "outputs": [
        {
          "output_type": "execute_result",
          "data": {
            "text/plain": [
              "(tensor([1, 2, 3, 4]), array([1, 2, 3, 4]))"
            ]
          },
          "metadata": {},
          "execution_count": 87
        }
      ]
    },
    {
      "cell_type": "markdown",
      "source": [
        "## Reproducebility (trying to take random out of random)\n",
        "\n",
        "Нейронка обучается так (вкратце):\n",
        "\n",
        "`start with random numbers -> tensor operations -> update random numbersto try make them a better representation of the data -> repeat`\n",
        "\n",
        "Чтобы уменьшить рандомность, юзаeтся так называемый` **random seed**"
      ],
      "metadata": {
        "id": "tZ2mRe8dW7w3"
      }
    },
    {
      "cell_type": "code",
      "source": [
        "# create 2 rand tensors\n",
        "rnd_tensor_A = torch.rand(3, 4)\n",
        "rnd_tensor_B = torch.rand(3, 4)\n",
        "\n",
        "print('tensor A:\\n\\n', rnd_tensor_A, '\\n')\n",
        "print('tensor B:\\n\\n', rnd_tensor_B, '\\n') \n",
        "print(rnd_tensor_A == rnd_tensor_B)"
      ],
      "metadata": {
        "colab": {
          "base_uri": "https://localhost:8080/"
        },
        "id": "ob_zkkiGXCHl",
        "outputId": "cd783ead-5185-44be-fc15-50a97b6177a0"
      },
      "execution_count": 88,
      "outputs": [
        {
          "output_type": "stream",
          "name": "stdout",
          "text": [
            "tensor A:\n",
            "\n",
            " tensor([[0.5616, 0.8115, 0.2080, 0.8356],\n",
            "        [0.6714, 0.3083, 0.5582, 0.3387],\n",
            "        [0.7789, 0.6065, 0.7060, 0.2615]]) \n",
            "\n",
            "tensor B:\n",
            "\n",
            " tensor([[0.9499, 0.8047, 0.6745, 0.5051],\n",
            "        [0.0071, 0.5719, 0.5156, 0.9135],\n",
            "        [0.6913, 0.2269, 0.1533, 0.4223]]) \n",
            "\n",
            "tensor([[False, False, False, False],\n",
            "        [False, False, False, False],\n",
            "        [False, False, False, False]])\n"
          ]
        }
      ]
    },
    {
      "cell_type": "code",
      "source": [
        "# Now lets make some random, but reproducible tensors:\n",
        "import torch\n",
        "\n",
        "# set the random seed\n",
        "RANDOM_SEED = 88\n",
        "\n",
        "torch.manual_seed(RANDOM_SEED)\n",
        "rnd_tensor_C = torch.rand(3, 4)\n",
        "\n",
        "torch.manual_seed(RANDOM_SEED)\n",
        "rnd_tensor_D = torch.rand(3, 4)\n",
        "\n",
        "print('tensor C:\\n\\n', rnd_tensor_C, '\\n')\n",
        "print('tensor D:\\n\\n', rnd_tensor_D, '\\n') \n",
        "print(rnd_tensor_C == rnd_tensor_D)"
      ],
      "metadata": {
        "colab": {
          "base_uri": "https://localhost:8080/"
        },
        "id": "mKks6YiCdglA",
        "outputId": "656faa05-0b01-46eb-d7e2-0f4341f18da3"
      },
      "execution_count": 89,
      "outputs": [
        {
          "output_type": "stream",
          "name": "stdout",
          "text": [
            "tensor C:\n",
            "\n",
            " tensor([[0.7731, 0.6937, 0.8303, 0.4142],\n",
            "        [0.2554, 0.0190, 0.4490, 0.8893],\n",
            "        [0.1977, 0.2397, 0.8601, 0.3128]]) \n",
            "\n",
            "tensor D:\n",
            "\n",
            " tensor([[0.7731, 0.6937, 0.8303, 0.4142],\n",
            "        [0.2554, 0.0190, 0.4490, 0.8893],\n",
            "        [0.1977, 0.2397, 0.8601, 0.3128]]) \n",
            "\n",
            "tensor([[True, True, True, True],\n",
            "        [True, True, True, True],\n",
            "        [True, True, True, True]])\n"
          ]
        }
      ]
    },
    {
      "cell_type": "code",
      "source": [
        "#  https://pytorch.org/docs/stable/notes/randomness.html"
      ],
      "metadata": {
        "id": "0wIWvxGaeKTw"
      },
      "execution_count": 90,
      "outputs": []
    },
    {
      "cell_type": "code",
      "source": [
        "# Check for GPU access with pytorch\n",
        "torch.cuda.is_available()"
      ],
      "metadata": {
        "colab": {
          "base_uri": "https://localhost:8080/"
        },
        "id": "xi2Wfm686hP8",
        "outputId": "34416f4e-d66c-4801-9949-4308f26b01e0"
      },
      "execution_count": 91,
      "outputs": [
        {
          "output_type": "execute_result",
          "data": {
            "text/plain": [
              "True"
            ]
          },
          "metadata": {},
          "execution_count": 91
        }
      ]
    },
    {
      "cell_type": "code",
      "source": [
        "# sETUP DEVICE AGNOSTIC CODE \n",
        "device = \"cuda\" if torch.cuda.is_available() else \"cpu\""
      ],
      "metadata": {
        "id": "i0QZ-Q4Z6pss"
      },
      "execution_count": 96,
      "outputs": []
    },
    {
      "cell_type": "code",
      "source": [
        "device"
      ],
      "metadata": {
        "colab": {
          "base_uri": "https://localhost:8080/",
          "height": 35
        },
        "id": "8hwixtRA6-W8",
        "outputId": "ea9b45b3-0eba-4f31-df54-eb444c1cccea"
      },
      "execution_count": 97,
      "outputs": [
        {
          "output_type": "execute_result",
          "data": {
            "text/plain": [
              "'cuda'"
            ],
            "application/vnd.google.colaboratory.intrinsic+json": {
              "type": "string"
            }
          },
          "metadata": {},
          "execution_count": 97
        }
      ]
    },
    {
      "cell_type": "markdown",
      "source": [
        "## Putting tensors and models on the GPU"
      ],
      "metadata": {
        "id": "tR9L-qzXNSyZ"
      }
    },
    {
      "cell_type": "code",
      "source": [
        "# Create tensor (def=cpu)\n",
        "tensor = torch.tensor([1, 2 ,3])\n",
        "tensor, tensor.device"
      ],
      "metadata": {
        "colab": {
          "base_uri": "https://localhost:8080/"
        },
        "id": "YDk-tppQNWYP",
        "outputId": "d850defe-e22b-412d-9c38-3de646316e42"
      },
      "execution_count": 104,
      "outputs": [
        {
          "output_type": "execute_result",
          "data": {
            "text/plain": [
              "(tensor([1, 2, 3]), device(type='cpu'))"
            ]
          },
          "metadata": {},
          "execution_count": 104
        }
      ]
    },
    {
      "cell_type": "code",
      "source": [
        "# Move tensor to GPU\n",
        "tensor_on_gpu = tensor.to(device)\n",
        "tensor_on_gpu"
      ],
      "metadata": {
        "colab": {
          "base_uri": "https://localhost:8080/"
        },
        "id": "lKf775eOQ3mn",
        "outputId": "295d8d47-86bf-4ee0-f483-bd8a49b711ca"
      },
      "execution_count": 105,
      "outputs": [
        {
          "output_type": "execute_result",
          "data": {
            "text/plain": [
              "tensor([1, 2, 3], device='cuda:0')"
            ]
          },
          "metadata": {},
          "execution_count": 105
        }
      ]
    },
    {
      "cell_type": "code",
      "source": [
        "# back to CPU (If tensor on GPU, can't transform it to NumPy)!!!!!!!!!!!!!!!!!!!!!!!\n",
        "# tensor_on_cpu = tensor_on_gpu.to('cpu')\n",
        "tensor_on_cpu = tensor_on_gpu.cpu()\n",
        "tensor_on_cpu.device, tensor_on_gpu"
      ],
      "metadata": {
        "colab": {
          "base_uri": "https://localhost:8080/"
        },
        "id": "fCO4DF5xWyUY",
        "outputId": "637860d2-2d99-4735-fa2b-d5bb7da84d54"
      },
      "execution_count": 108,
      "outputs": [
        {
          "output_type": "execute_result",
          "data": {
            "text/plain": [
              "(device(type='cpu'), tensor([1, 2, 3], device='cuda:0'))"
            ]
          },
          "metadata": {},
          "execution_count": 108
        }
      ]
    },
    {
      "cell_type": "code",
      "source": [
        "# Exercises\n",
        "\n",
        "# 2) Create a random tensor with shape (7, 7).\n",
        "x = torch.randn(7, 7)\n",
        "x, x.shape"
      ],
      "metadata": {
        "colab": {
          "base_uri": "https://localhost:8080/"
        },
        "id": "B1EgwvaFXNm5",
        "outputId": "0f89365d-ab0d-4052-89f0-fe351297c0cb"
      },
      "execution_count": 109,
      "outputs": [
        {
          "output_type": "execute_result",
          "data": {
            "text/plain": [
              "(tensor([[ 0.0631,  2.8513, -0.2867,  0.0621,  1.8978,  0.4031, -1.4297],\n",
              "         [ 1.9329, -1.4254, -0.5128, -0.0562,  2.1525,  0.2407, -0.9002],\n",
              "         [-2.0012, -1.4268,  0.5157, -0.9045,  0.8949, -0.2031, -1.3303],\n",
              "         [-0.0798,  0.8719, -1.3089, -0.7088, -1.0707,  0.6845,  0.4388],\n",
              "         [-0.7025, -0.1489,  0.0930,  1.7277, -0.4068,  0.8536, -0.6982],\n",
              "         [-1.7014, -2.6704, -1.4788,  0.0608,  0.6590, -1.7416, -0.9727],\n",
              "         [ 1.3185, -1.5648, -0.5592, -0.0073,  0.6782,  0.2615,  0.5007]]),\n",
              " torch.Size([7, 7]))"
            ]
          },
          "metadata": {},
          "execution_count": 109
        }
      ]
    },
    {
      "cell_type": "code",
      "source": [
        "# 3) Perform a matrix multiplication on the tensor from 2 with another random tensor with shape (1, 7) (hint: you may have to transpose the second tensor).\n",
        "\n",
        "# Element-wise multiplication:\n",
        "y = x * torch.randn(1, 7)\n",
        "y, y.shape"
      ],
      "metadata": {
        "colab": {
          "base_uri": "https://localhost:8080/"
        },
        "id": "UGPJ648Wcw6J",
        "outputId": "6350f0ff-09a8-447a-fe22-9d99d834419b"
      },
      "execution_count": 111,
      "outputs": [
        {
          "output_type": "execute_result",
          "data": {
            "text/plain": [
              "(tensor([[ 0.1440,  3.6657, -0.0410,  0.1226,  0.4858, -0.6724, -1.4850],\n",
              "         [ 4.4114, -1.8325, -0.0733, -0.1109,  0.5510, -0.4015, -0.9350],\n",
              "         [-4.5675, -1.8343,  0.0737, -1.7865,  0.2291,  0.3388, -1.3817],\n",
              "         [-0.1822,  1.1210, -0.1870, -1.3999, -0.2741, -1.1417,  0.4558],\n",
              "         [-1.6033, -0.1915,  0.0133,  3.4124, -0.1041, -1.4237, -0.7252],\n",
              "         [-3.8830, -3.4331, -0.2113,  0.1201,  0.1687,  2.9049, -1.0103],\n",
              "         [ 3.0092, -2.0117, -0.0799, -0.0144,  0.1736, -0.4361,  0.5201]]),\n",
              " torch.Size([7, 7]))"
            ]
          },
          "metadata": {},
          "execution_count": 111
        }
      ]
    },
    {
      "cell_type": "code",
      "source": [
        "# MatMul for a dot product:\n",
        "y = torch.mm(x, torch.randn(1, 7).T)\n",
        "y, y.shape"
      ],
      "metadata": {
        "colab": {
          "base_uri": "https://localhost:8080/"
        },
        "id": "TC7NfJVWdDZC",
        "outputId": "3153aef0-ed11-47f2-db51-45f59038358d"
      },
      "execution_count": 115,
      "outputs": [
        {
          "output_type": "execute_result",
          "data": {
            "text/plain": [
              "(tensor([[-4.0713],\n",
              "         [-3.6968],\n",
              "         [-3.1263],\n",
              "         [ 0.5045],\n",
              "         [ 1.9110],\n",
              "         [-0.4840],\n",
              "         [-0.0790]]),\n",
              " torch.Size([7, 1]))"
            ]
          },
          "metadata": {},
          "execution_count": 115
        }
      ]
    },
    {
      "cell_type": "code",
      "source": [
        "#6)  Speaking of random seeds, we saw how to set it with torch.manual_seed() but is there a GPU equivalent? \n",
        "# (hint: you'll need to look into the documentation for torch.cuda for this one). \n",
        "# if there is, set the GPU random seed to 1234.\n",
        "\n",
        "# setting seed for gpu\n",
        "GPU_SEED = 1234\n",
        "torch.manual_seed(GPU_SEED)\n",
        "if torch.cuda.is_available():\n",
        "    torch.cuda.manual_seed(GPU_SEED)\n",
        "\n",
        "# Create two random tensors of shape (2, 3) and send them both to the GPU (you'll need access to a GPU for this). \n",
        "# Set torch.manual_seed(1234) when creating the tensors (this doesn't have to be the GPU random seed).\n",
        "\n",
        "rdn_tensor_A = torch.randn(2, 3).cuda()\n",
        "rdn_tensor_B = torch.randn(2, 3).cuda()\n",
        "\n",
        "rdn_tensor_A, rdn_tensor_B"
      ],
      "metadata": {
        "colab": {
          "base_uri": "https://localhost:8080/"
        },
        "id": "EnjGzL-MdZji",
        "outputId": "bd63e928-6c63-443b-df7b-e18714d0072a"
      },
      "execution_count": 131,
      "outputs": [
        {
          "output_type": "execute_result",
          "data": {
            "text/plain": [
              "(tensor([[ 0.0461,  0.4024, -1.0115],\n",
              "         [ 0.2167, -0.6123,  0.5036]], device='cuda:0'),\n",
              " tensor([[ 0.2310,  0.6931, -0.2669],\n",
              "         [ 2.1785,  0.1021, -0.2590]], device='cuda:0'))"
            ]
          },
          "metadata": {},
          "execution_count": 131
        }
      ]
    },
    {
      "cell_type": "code",
      "source": [
        "# 7) Perform a matrix multiplication on the tensors you created in 6 (again, you may have to adjust the shapes of one of the tensors)\n",
        "kek = torch.matmul(rdn_tensor_A, rdn_tensor_B.T)\n",
        "kek, kek.shape"
      ],
      "metadata": {
        "colab": {
          "base_uri": "https://localhost:8080/"
        },
        "id": "51gvSTGjheLi",
        "outputId": "9da8bea5-0856-41d8-e37a-f910cecfdb03"
      },
      "execution_count": 134,
      "outputs": [
        {
          "output_type": "execute_result",
          "data": {
            "text/plain": [
              "(tensor([[ 0.5595,  0.4036],\n",
              "         [-0.5087,  0.2792]], device='cuda:0'),\n",
              " torch.Size([2, 2]))"
            ]
          },
          "metadata": {},
          "execution_count": 134
        }
      ]
    },
    {
      "cell_type": "code",
      "source": [
        "# Find the maximum and minimum values of the output of 7.\n",
        "kek.min(), kek.max()"
      ],
      "metadata": {
        "colab": {
          "base_uri": "https://localhost:8080/"
        },
        "id": "xupvslrKlzoq",
        "outputId": "929b6762-a836-48b4-fcc6-ecc379b1615c"
      },
      "execution_count": 137,
      "outputs": [
        {
          "output_type": "execute_result",
          "data": {
            "text/plain": [
              "(tensor(-0.5087, device='cuda:0'), tensor(0.5595, device='cuda:0'))"
            ]
          },
          "metadata": {},
          "execution_count": 137
        }
      ]
    },
    {
      "cell_type": "code",
      "source": [
        "# Find the maximum and minimum index values of the output of 7.\n",
        "torch.argmin(kek), torch.argmax(kek)"
      ],
      "metadata": {
        "colab": {
          "base_uri": "https://localhost:8080/"
        },
        "id": "wHWX7Ts_mLTb",
        "outputId": "9705c2dc-27ae-4597-934b-b38fc89d8a85"
      },
      "execution_count": 138,
      "outputs": [
        {
          "output_type": "execute_result",
          "data": {
            "text/plain": [
              "(tensor(2, device='cuda:0'), tensor(0, device='cuda:0'))"
            ]
          },
          "metadata": {},
          "execution_count": 138
        }
      ]
    },
    {
      "cell_type": "code",
      "source": [
        "# Make a random tensor with shape (1, 1, 1, 10) and then create a new tensor with all the 1 dimensions removed to be left with a tensor of shape (10). \n",
        "x = torch.rand(1, 1, 1, 10)\n",
        "x, x.shape"
      ],
      "metadata": {
        "colab": {
          "base_uri": "https://localhost:8080/"
        },
        "id": "DwIwl6vpsNuM",
        "outputId": "b76ecda3-92e8-4312-97fa-edb2fa3ba191"
      },
      "execution_count": 141,
      "outputs": [
        {
          "output_type": "execute_result",
          "data": {
            "text/plain": [
              "(tensor([[[[0.5247, 0.6688, 0.8436, 0.4265, 0.9561, 0.0770, 0.4108, 0.0014,\n",
              "            0.5414, 0.6419]]]]),\n",
              " torch.Size([1, 1, 1, 10]))"
            ]
          },
          "metadata": {},
          "execution_count": 141
        }
      ]
    },
    {
      "cell_type": "code",
      "source": [
        "x_squeezed = x.squeeze()\n",
        "x_squeezed, x_squeezed.shape"
      ],
      "metadata": {
        "colab": {
          "base_uri": "https://localhost:8080/"
        },
        "id": "z2nuA7MpscpE",
        "outputId": "1f509cde-7b63-4465-9a64-f7b57efaa365"
      },
      "execution_count": 142,
      "outputs": [
        {
          "output_type": "execute_result",
          "data": {
            "text/plain": [
              "(tensor([0.5247, 0.6688, 0.8436, 0.4265, 0.9561, 0.0770, 0.4108, 0.0014, 0.5414,\n",
              "         0.6419]),\n",
              " torch.Size([10]))"
            ]
          },
          "metadata": {},
          "execution_count": 142
        }
      ]
    },
    {
      "cell_type": "code",
      "source": [
        "# Set the seed to 7 when you create it and print out the first tensor and it's shape as well as the second tensor and it's shape.\n",
        "SEED = 7\n",
        "torch.manual_seed(SEED)\n",
        "if torch.cuda.is_available():\n",
        "    torch.cuda.manual_seed(SEED)\n",
        "\n",
        "x = torch.rand(1, 1, 1, 10)\n",
        "x, x.shape"
      ],
      "metadata": {
        "colab": {
          "base_uri": "https://localhost:8080/"
        },
        "id": "p98aD0nzsmAT",
        "outputId": "20c82e9a-2dd0-4c74-eecc-ad295ec5a92e"
      },
      "execution_count": 143,
      "outputs": [
        {
          "output_type": "execute_result",
          "data": {
            "text/plain": [
              "(tensor([[[[0.0290, 0.4019, 0.2598, 0.3666, 0.0583, 0.7006, 0.0518, 0.4681,\n",
              "            0.6738, 0.3315]]]]),\n",
              " torch.Size([1, 1, 1, 10]))"
            ]
          },
          "metadata": {},
          "execution_count": 143
        }
      ]
    },
    {
      "cell_type": "code",
      "source": [
        "x_squeezed = x.squeeze()\n",
        "x_squeezed, x_squeezed.shape"
      ],
      "metadata": {
        "id": "Z3ZqJB_ms7Wc",
        "outputId": "d414ea44-b913-4913-f443-7353a519df59",
        "colab": {
          "base_uri": "https://localhost:8080/"
        }
      },
      "execution_count": 144,
      "outputs": [
        {
          "output_type": "execute_result",
          "data": {
            "text/plain": [
              "(tensor([0.0290, 0.4019, 0.2598, 0.3666, 0.0583, 0.7006, 0.0518, 0.4681, 0.6738,\n",
              "         0.3315]),\n",
              " torch.Size([10]))"
            ]
          },
          "metadata": {},
          "execution_count": 144
        }
      ]
    },
    {
      "cell_type": "code",
      "source": [],
      "metadata": {
        "id": "vW7kKenIs8gz"
      },
      "execution_count": null,
      "outputs": []
    }
  ]
}
